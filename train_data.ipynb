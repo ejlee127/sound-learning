{
  "nbformat": 4,
  "nbformat_minor": 0,
  "metadata": {
    "colab": {
      "name": "train_data.ipynb",
      "provenance": [],
      "collapsed_sections": [],
      "authorship_tag": "ABX9TyObaNoanjHpzNKqEPq+J9Nm",
      "include_colab_link": true
    },
    "kernelspec": {
      "name": "python3",
      "display_name": "Python 3"
    }
  },
  "cells": [
    {
      "cell_type": "markdown",
      "metadata": {
        "id": "view-in-github",
        "colab_type": "text"
      },
      "source": [
        "<a href=\"https://colab.research.google.com/github/ejlee127/sound-learning/blob/main/train_data.ipynb\" target=\"_parent\"><img src=\"https://colab.research.google.com/assets/colab-badge.svg\" alt=\"Open In Colab\"/></a>"
      ]
    },
    {
      "cell_type": "code",
      "metadata": {
        "id": "A0r3bsTCLKcX",
        "outputId": "197fed0b-eb40-46b6-b3ac-ee92485717f4",
        "colab": {
          "base_uri": "https://localhost:8080/"
        }
      },
      "source": [
        "import os\n",
        "# Find the latest version of spark 3.0  from http://www-us.apache.org/dist/spark/ and enter as the spark version\n",
        "# For example:\n",
        "spark_version = 'spark-3.0.1'\n",
        "#spark_version = 'spark-3.<enter version>'\n",
        "os.environ['SPARK_VERSION']=spark_version\n",
        "\n",
        "# Install Spark and Java\n",
        "!apt-get update\n",
        "!apt-get install openjdk-11-jdk-headless -qq > /dev/null\n",
        "!wget -q http://www-us.apache.org/dist/spark/$SPARK_VERSION/$SPARK_VERSION-bin-hadoop2.7.tgz\n",
        "!tar xf $SPARK_VERSION-bin-hadoop2.7.tgz\n",
        "!pip install -q findspark\n",
        "\n",
        "# Set Environment Variables\n",
        "os.environ[\"JAVA_HOME\"] = \"/usr/lib/jvm/java-11-openjdk-amd64\"\n",
        "os.environ[\"SPARK_HOME\"] = f\"/content/{spark_version}-bin-hadoop2.7\"\n",
        "\n",
        "# Start a SparkSession\n",
        "import findspark\n",
        "findspark.init()"
      ],
      "execution_count": 1,
      "outputs": [
        {
          "output_type": "stream",
          "text": [
            "\r0% [Working]\r            \rHit:1 http://ppa.launchpad.net/c2d4u.team/c2d4u4.0+/ubuntu bionic InRelease\n",
            "\r0% [Connecting to archive.ubuntu.com (91.189.88.142)] [Connecting to security.u\r                                                                               \rHit:2 http://archive.ubuntu.com/ubuntu bionic InRelease\n",
            "\r0% [Waiting for headers] [Connecting to security.ubuntu.com (91.189.91.38)] [Co\r0% [1 InRelease gpgv 15.9 kB] [Waiting for headers] [Connecting to security.ubu\r                                                                               \rHit:3 http://ppa.launchpad.net/graphics-drivers/ppa/ubuntu bionic InRelease\n",
            "\r0% [1 InRelease gpgv 15.9 kB] [Waiting for headers] [Connecting to security.ubu\r                                                                               \rGet:4 http://archive.ubuntu.com/ubuntu bionic-updates InRelease [88.7 kB]\n",
            "\r0% [1 InRelease gpgv 15.9 kB] [4 InRelease 14.2 kB/88.7 kB 16%] [Connecting to \r                                                                               \rHit:5 https://cloud.r-project.org/bin/linux/ubuntu bionic-cran40/ InRelease\n",
            "Get:6 http://archive.ubuntu.com/ubuntu bionic-backports InRelease [74.6 kB]\n",
            "Get:7 http://security.ubuntu.com/ubuntu bionic-security InRelease [88.7 kB]\n",
            "Ign:8 https://developer.download.nvidia.com/compute/cuda/repos/ubuntu1804/x86_64  InRelease\n",
            "Ign:9 https://developer.download.nvidia.com/compute/machine-learning/repos/ubuntu1804/x86_64  InRelease\n",
            "Hit:10 https://developer.download.nvidia.com/compute/cuda/repos/ubuntu1804/x86_64  Release\n",
            "Hit:11 https://developer.download.nvidia.com/compute/machine-learning/repos/ubuntu1804/x86_64  Release\n",
            "Fetched 252 kB in 2s (149 kB/s)\n",
            "Reading package lists... Done\n"
          ],
          "name": "stdout"
        }
      ]
    },
    {
      "cell_type": "code",
      "metadata": {
        "id": "YUbGjJQra_Gm",
        "outputId": "1a842c32-b11a-47b4-cfe7-8ca5550dfade",
        "colab": {
          "base_uri": "https://localhost:8080/"
        }
      },
      "source": [
        "!wget https://jdbc.postgresql.org/download/postgresql-42.2.9.jar"
      ],
      "execution_count": 2,
      "outputs": [
        {
          "output_type": "stream",
          "text": [
            "--2020-11-04 18:29:40--  https://jdbc.postgresql.org/download/postgresql-42.2.9.jar\n",
            "Resolving jdbc.postgresql.org (jdbc.postgresql.org)... 72.32.157.228, 2001:4800:3e1:1::228\n",
            "Connecting to jdbc.postgresql.org (jdbc.postgresql.org)|72.32.157.228|:443... connected.\n",
            "HTTP request sent, awaiting response... 200 OK\n",
            "Length: 914037 (893K) [application/java-archive]\n",
            "Saving to: ‘postgresql-42.2.9.jar.1’\n",
            "\n",
            "postgresql-42.2.9.j 100%[===================>] 892.61K  1.40MB/s    in 0.6s    \n",
            "\n",
            "2020-11-04 18:29:41 (1.40 MB/s) - ‘postgresql-42.2.9.jar.1’ saved [914037/914037]\n",
            "\n"
          ],
          "name": "stdout"
        }
      ]
    },
    {
      "cell_type": "code",
      "metadata": {
        "id": "4DIeICb3bFyO"
      },
      "source": [
        "from pyspark.sql import SparkSession\n",
        "spark = SparkSession.builder.appName(\"CloudETL\").config(\"spark.driver.extraClassPath\",\"/content/postgresql-42.2.9.jar\").getOrCreate()"
      ],
      "execution_count": 3,
      "outputs": []
    },
    {
      "cell_type": "code",
      "metadata": {
        "id": "W-0uJbG7ps-J"
      },
      "source": [
        "import numpy as np\n",
        "import json\n",
        "# Read in data from S3 Buckets\n",
        "from pyspark import SparkFiles\n",
        "\n",
        "def pulljsonFiles(filename):\n",
        "  json_url=\"https://billdatavizclass.s3.amazonaws.com/\" + filename\n",
        "  spark.sparkContext.addFile(json_url)\n",
        "  data= spark.read.option('multiline','true').json(SparkFiles.get(filename))\n",
        "\n",
        "  # return the data from the file\n",
        "  inputsTmp = data.select(\"mfcc\").collect()\n",
        "  inputs = inputsTmp[0][0] #  \n",
        "  targetsTmp = data.select(\"classID\").collect()\n",
        "  targets = targetsTmp[0][0]\n",
        "\n",
        "  return inputs,targets\n",
        "\n"
      ],
      "execution_count": 4,
      "outputs": []
    },
    {
      "cell_type": "code",
      "metadata": {
        "id": "4LGQIqzkQDF1"
      },
      "source": [
        "def createSet(inputs,targets,currentSet=[], currentTarget=[]):\n",
        "\n",
        "  for i in range(len(inputs)):\n",
        "      currentSet.append(inputs[i])\n",
        "      currentTarget.append(targets[i])\n",
        "  return currentSet, currentTarget"
      ],
      "execution_count": 5,
      "outputs": []
    },
    {
      "cell_type": "code",
      "metadata": {
        "id": "XbyPR2FxM3Fq",
        "outputId": "50171e54-62a8-41bf-9e2e-c744a0be2123",
        "colab": {
          "base_uri": "https://localhost:8080/"
        }
      },
      "source": [
        "fileList = [\"data1.json\",\"data2.json\",\"data3.json\",\"data4.json\",\"data5.json\",\"data6.json\",\"data7.json\",\"data8.json\",\"data9.json\",\"data10.json\"]\n",
        "testList = [\"data10.json\",\"data5.json\", \"data1.json\"]\n",
        "X_test = []\n",
        "X_train = []\n",
        "y_test = []\n",
        "y_train = []\n",
        "\n",
        "for file in fileList:\n",
        "  inputs, targets = pulljsonFiles(file)\n",
        "  print(np.shape(inputs))\n",
        "  if file in testList: X_test, y_test = createSet(inputs,targets,X_test, y_test)\n",
        "  else: X_train, y_train = createSet(inputs,targets,X_train, y_train)\n",
        "  print(f\"done with file: {file}\")\n",
        "print(\"shape\",np.shape(X_train))\n",
        "print(\"shape\",np.shape(X_test))\n",
        "X_test = np.array(X_test)\n",
        "X_train = np.array(X_train)\n",
        "y_test = np.array(y_test)\n",
        "y_train = np.array(y_train)"
      ],
      "execution_count": 63,
      "outputs": [
        {
          "output_type": "stream",
          "text": [
            "(3106, 44, 13)\n",
            "done with file: data1.json\n",
            "(3076, 44, 13)\n",
            "done with file: data2.json\n",
            "(3337, 44, 13)\n",
            "done with file: data3.json\n",
            "(3454, 44, 13)\n",
            "done with file: data4.json\n",
            "(3248, 44, 13)\n",
            "done with file: data5.json\n",
            "(2901, 44, 13)\n",
            "done with file: data6.json\n",
            "(3010, 44, 13)\n",
            "done with file: data7.json\n",
            "(2809, 44, 13)\n",
            "done with file: data8.json\n",
            "(2910, 44, 13)\n",
            "done with file: data9.json\n",
            "(2974, 44, 13)\n",
            "done with file: data10.json\n",
            "shape (21497, 44, 13)\n",
            "shape (9328, 44, 13)\n"
          ],
          "name": "stdout"
        }
      ]
    },
    {
      "cell_type": "code",
      "metadata": {
        "id": "gDSZu6mlZnbK",
        "outputId": "b5fc6efe-4b2b-43ab-b26f-ba3190ac9ec8",
        "colab": {
          "base_uri": "https://localhost:8080/"
        }
      },
      "source": [
        "print(X_train.shape[0],X_train.shape[1], X_train.shape[2])\n",
        "print(y_train.shape[0], y_train.shape[1])\n",
        "print(X_test.shape[0],X_test.shape[1], X_test.shape[2])\n",
        "print(y_test.shape[0], y_test.shape[1])\n"
      ],
      "execution_count": 64,
      "outputs": [
        {
          "output_type": "stream",
          "text": [
            "21497 44 13\n",
            "21497 1\n",
            "9328 44 13\n",
            "9328 1\n"
          ],
          "name": "stdout"
        }
      ]
    },
    {
      "cell_type": "code",
      "metadata": {
        "id": "iGtgJ_KAxlbW"
      },
      "source": [
        "from sklearn.model_selection import train_test_split\n",
        "import tensorflow.keras as keras\n",
        "from tensorflow.keras.models import Sequential\n",
        "from tensorflow.keras.layers import Dense\n"
      ],
      "execution_count": 65,
      "outputs": []
    },
    {
      "cell_type": "code",
      "metadata": {
        "id": "313Nnvu64VdU"
      },
      "source": [
        "keras.backend.clear_session()"
      ],
      "execution_count": 66,
      "outputs": []
    },
    {
      "cell_type": "code",
      "metadata": {
        "id": "MDn6qvBW25kf"
      },
      "source": [
        "# build the network architecture\n",
        "model = keras.Sequential([\n",
        "    # input layer\n",
        "    keras.layers.Flatten(input_shape=(X_train.shape[1], X_train.shape[2])),\n",
        "    \n",
        "    # lst hidden layer\n",
        "    keras.layers.Dense(512, activation=\"relu\",kernel_regularizer=keras.regularizers.l2(0.001)),\n",
        "    keras.layers.Dropout(0.3),\n",
        "    \n",
        "    # 2nd hidden layer\n",
        "    keras.layers.Dense(512, activation=\"relu\",kernel_regularizer=keras.regularizers.l2(0.001)),\n",
        "    keras.layers.Dropout(0.3),\n",
        "    \n",
        "    # 3rd hidden layer\n",
        "    keras.layers.Dense(512, activation=\"relu\",kernel_regularizer=keras.regularizers.l2(0.001)),\n",
        "    keras.layers.Dropout(0.3),\n",
        "    \n",
        "    # output layer\n",
        "    keras.layers.Dense(10, activation=\"softmax\")\n",
        "])"
      ],
      "execution_count": 67,
      "outputs": []
    },
    {
      "cell_type": "code",
      "metadata": {
        "id": "72xPIY_S253Q",
        "outputId": "65884e13-a721-4fc2-ca4c-4a1d7f8cb424",
        "colab": {
          "base_uri": "https://localhost:8080/"
        }
      },
      "source": [
        "# compile network : example\n",
        "# optimizer = keras.optimizers.Adam(learning_rate=0.0001)\n",
        "model.compile(optimizer='adam',\n",
        "             loss = \"sparse_categorical_crossentropy\",\n",
        "             metrics=[\"accuracy\"])\n",
        "model.summary()"
      ],
      "execution_count": 68,
      "outputs": [
        {
          "output_type": "stream",
          "text": [
            "Model: \"sequential\"\n",
            "_________________________________________________________________\n",
            "Layer (type)                 Output Shape              Param #   \n",
            "=================================================================\n",
            "flatten (Flatten)            (None, 572)               0         \n",
            "_________________________________________________________________\n",
            "dense (Dense)                (None, 512)               293376    \n",
            "_________________________________________________________________\n",
            "dropout (Dropout)            (None, 512)               0         \n",
            "_________________________________________________________________\n",
            "dense_1 (Dense)              (None, 512)               262656    \n",
            "_________________________________________________________________\n",
            "dropout_1 (Dropout)          (None, 512)               0         \n",
            "_________________________________________________________________\n",
            "dense_2 (Dense)              (None, 512)               262656    \n",
            "_________________________________________________________________\n",
            "dropout_2 (Dropout)          (None, 512)               0         \n",
            "_________________________________________________________________\n",
            "dense_3 (Dense)              (None, 10)                5130      \n",
            "=================================================================\n",
            "Total params: 823,818\n",
            "Trainable params: 823,818\n",
            "Non-trainable params: 0\n",
            "_________________________________________________________________\n"
          ],
          "name": "stdout"
        }
      ]
    },
    {
      "cell_type": "code",
      "metadata": {
        "id": "haDAhLiO63TT",
        "outputId": "c527d291-fb16-4314-e35c-dcc290c7c0bd",
        "colab": {
          "base_uri": "https://localhost:8080/"
        }
      },
      "source": [
        "# train network\n",
        "model_history = model.fit(X_train, y_train, validation_data=(X_test, y_test), epochs=50, batch_size=32)\n",
        "\n",
        "## overfitting -- identify"
      ],
      "execution_count": 69,
      "outputs": [
        {
          "output_type": "stream",
          "text": [
            "Epoch 1/50\n",
            "672/672 [==============================] - 9s 13ms/step - loss: 5.1778 - accuracy: 0.3707 - val_loss: 3.1203 - val_accuracy: 0.4143\n",
            "Epoch 2/50\n",
            "672/672 [==============================] - 9s 13ms/step - loss: 2.7694 - accuracy: 0.4671 - val_loss: 2.9148 - val_accuracy: 0.4405\n",
            "Epoch 3/50\n",
            "672/672 [==============================] - 9s 13ms/step - loss: 2.4946 - accuracy: 0.5061 - val_loss: 2.8754 - val_accuracy: 0.4327\n",
            "Epoch 4/50\n",
            "672/672 [==============================] - 9s 13ms/step - loss: 2.2972 - accuracy: 0.5226 - val_loss: 2.6241 - val_accuracy: 0.4578\n",
            "Epoch 5/50\n",
            "672/672 [==============================] - 9s 13ms/step - loss: 2.0976 - accuracy: 0.5469 - val_loss: 2.5248 - val_accuracy: 0.4383\n",
            "Epoch 6/50\n",
            "672/672 [==============================] - 9s 13ms/step - loss: 1.9641 - accuracy: 0.5512 - val_loss: 2.5560 - val_accuracy: 0.4773\n",
            "Epoch 7/50\n",
            "672/672 [==============================] - 9s 13ms/step - loss: 1.8497 - accuracy: 0.5623 - val_loss: 2.6022 - val_accuracy: 0.4632\n",
            "Epoch 8/50\n",
            "672/672 [==============================] - 9s 13ms/step - loss: 1.7978 - accuracy: 0.5582 - val_loss: 2.3730 - val_accuracy: 0.4739\n",
            "Epoch 9/50\n",
            "672/672 [==============================] - 9s 13ms/step - loss: 1.7056 - accuracy: 0.5755 - val_loss: 2.3249 - val_accuracy: 0.4522\n",
            "Epoch 10/50\n",
            "672/672 [==============================] - 9s 13ms/step - loss: 1.6593 - accuracy: 0.5716 - val_loss: 2.3590 - val_accuracy: 0.4719\n",
            "Epoch 11/50\n",
            "672/672 [==============================] - 9s 13ms/step - loss: 1.6440 - accuracy: 0.5703 - val_loss: 2.1553 - val_accuracy: 0.4542\n",
            "Epoch 12/50\n",
            "672/672 [==============================] - 9s 13ms/step - loss: 1.6121 - accuracy: 0.5798 - val_loss: 2.2551 - val_accuracy: 0.4299\n",
            "Epoch 13/50\n",
            "672/672 [==============================] - 10s 14ms/step - loss: 1.6061 - accuracy: 0.5818 - val_loss: 2.2453 - val_accuracy: 0.4474\n",
            "Epoch 14/50\n",
            "672/672 [==============================] - 10s 15ms/step - loss: 1.5764 - accuracy: 0.5890 - val_loss: 2.1920 - val_accuracy: 0.4683\n",
            "Epoch 15/50\n",
            "672/672 [==============================] - 9s 13ms/step - loss: 1.5707 - accuracy: 0.5883 - val_loss: 2.1580 - val_accuracy: 0.4675\n",
            "Epoch 16/50\n",
            "672/672 [==============================] - 9s 13ms/step - loss: 1.5482 - accuracy: 0.5960 - val_loss: 2.1272 - val_accuracy: 0.4724\n",
            "Epoch 17/50\n",
            "672/672 [==============================] - 9s 13ms/step - loss: 1.5655 - accuracy: 0.5919 - val_loss: 2.2102 - val_accuracy: 0.4677\n",
            "Epoch 18/50\n",
            "672/672 [==============================] - 9s 13ms/step - loss: 1.5620 - accuracy: 0.5929 - val_loss: 2.2203 - val_accuracy: 0.4625\n",
            "Epoch 19/50\n",
            "672/672 [==============================] - 9s 13ms/step - loss: 1.5120 - accuracy: 0.6037 - val_loss: 2.1871 - val_accuracy: 0.4672\n",
            "Epoch 20/50\n",
            "672/672 [==============================] - 9s 13ms/step - loss: 1.5377 - accuracy: 0.5948 - val_loss: 2.1577 - val_accuracy: 0.4670\n",
            "Epoch 21/50\n",
            "672/672 [==============================] - 9s 13ms/step - loss: 1.5098 - accuracy: 0.6117 - val_loss: 2.1893 - val_accuracy: 0.4519\n",
            "Epoch 22/50\n",
            "672/672 [==============================] - 9s 13ms/step - loss: 1.5048 - accuracy: 0.6103 - val_loss: 2.0837 - val_accuracy: 0.4900\n",
            "Epoch 23/50\n",
            "672/672 [==============================] - 9s 13ms/step - loss: 1.5025 - accuracy: 0.6135 - val_loss: 2.0620 - val_accuracy: 0.4981\n",
            "Epoch 24/50\n",
            "672/672 [==============================] - 9s 13ms/step - loss: 1.4958 - accuracy: 0.6113 - val_loss: 2.1729 - val_accuracy: 0.4750\n",
            "Epoch 25/50\n",
            "672/672 [==============================] - 9s 13ms/step - loss: 1.4902 - accuracy: 0.6126 - val_loss: 2.1105 - val_accuracy: 0.4817\n",
            "Epoch 26/50\n",
            "672/672 [==============================] - 9s 13ms/step - loss: 1.4948 - accuracy: 0.6101 - val_loss: 2.1284 - val_accuracy: 0.4911\n",
            "Epoch 27/50\n",
            "672/672 [==============================] - 9s 13ms/step - loss: 1.5100 - accuracy: 0.6095 - val_loss: 2.1332 - val_accuracy: 0.4895\n",
            "Epoch 28/50\n",
            "672/672 [==============================] - 9s 14ms/step - loss: 1.4677 - accuracy: 0.6132 - val_loss: 2.2855 - val_accuracy: 0.4577\n",
            "Epoch 29/50\n",
            "672/672 [==============================] - 9s 13ms/step - loss: 1.4888 - accuracy: 0.6143 - val_loss: 2.2089 - val_accuracy: 0.4763\n",
            "Epoch 30/50\n",
            "672/672 [==============================] - 9s 13ms/step - loss: 1.4993 - accuracy: 0.6154 - val_loss: 2.1627 - val_accuracy: 0.4755\n",
            "Epoch 31/50\n",
            "672/672 [==============================] - 9s 13ms/step - loss: 1.4572 - accuracy: 0.6195 - val_loss: 2.2986 - val_accuracy: 0.4661\n",
            "Epoch 32/50\n",
            "672/672 [==============================] - 9s 13ms/step - loss: 1.4497 - accuracy: 0.6209 - val_loss: 2.3482 - val_accuracy: 0.4825\n",
            "Epoch 33/50\n",
            "672/672 [==============================] - 9s 13ms/step - loss: 1.4381 - accuracy: 0.6199 - val_loss: 2.2012 - val_accuracy: 0.4823\n",
            "Epoch 34/50\n",
            "672/672 [==============================] - 9s 13ms/step - loss: 1.4487 - accuracy: 0.6209 - val_loss: 2.1876 - val_accuracy: 0.4601\n",
            "Epoch 35/50\n",
            "672/672 [==============================] - 9s 13ms/step - loss: 1.4364 - accuracy: 0.6212 - val_loss: 2.2616 - val_accuracy: 0.4699\n",
            "Epoch 36/50\n",
            "672/672 [==============================] - 9s 13ms/step - loss: 1.4226 - accuracy: 0.6228 - val_loss: 2.1403 - val_accuracy: 0.4960\n",
            "Epoch 37/50\n",
            "672/672 [==============================] - 9s 13ms/step - loss: 1.4495 - accuracy: 0.6148 - val_loss: 2.3007 - val_accuracy: 0.4604\n",
            "Epoch 38/50\n",
            "672/672 [==============================] - 9s 13ms/step - loss: 1.4555 - accuracy: 0.6151 - val_loss: 2.1587 - val_accuracy: 0.4706\n",
            "Epoch 39/50\n",
            "672/672 [==============================] - 9s 13ms/step - loss: 1.4372 - accuracy: 0.6224 - val_loss: 2.2134 - val_accuracy: 0.4620\n",
            "Epoch 40/50\n",
            "672/672 [==============================] - 9s 13ms/step - loss: 1.4185 - accuracy: 0.6223 - val_loss: 2.1569 - val_accuracy: 0.4801\n",
            "Epoch 41/50\n",
            "672/672 [==============================] - 9s 13ms/step - loss: 1.4276 - accuracy: 0.6217 - val_loss: 2.2240 - val_accuracy: 0.4731\n",
            "Epoch 42/50\n",
            "672/672 [==============================] - 9s 13ms/step - loss: 1.4293 - accuracy: 0.6213 - val_loss: 2.1210 - val_accuracy: 0.4668\n",
            "Epoch 43/50\n",
            "672/672 [==============================] - 9s 13ms/step - loss: 1.4122 - accuracy: 0.6259 - val_loss: 2.1136 - val_accuracy: 0.4596\n",
            "Epoch 44/50\n",
            "672/672 [==============================] - 9s 13ms/step - loss: 1.4295 - accuracy: 0.6237 - val_loss: 2.1175 - val_accuracy: 0.5048\n",
            "Epoch 45/50\n",
            "672/672 [==============================] - 9s 13ms/step - loss: 1.4028 - accuracy: 0.6270 - val_loss: 2.1985 - val_accuracy: 0.4816\n",
            "Epoch 46/50\n",
            "672/672 [==============================] - 9s 13ms/step - loss: 1.4112 - accuracy: 0.6258 - val_loss: 2.1103 - val_accuracy: 0.4904\n",
            "Epoch 47/50\n",
            "672/672 [==============================] - 9s 13ms/step - loss: 1.3763 - accuracy: 0.6280 - val_loss: 2.0699 - val_accuracy: 0.4798\n",
            "Epoch 48/50\n",
            "672/672 [==============================] - 9s 13ms/step - loss: 1.4069 - accuracy: 0.6232 - val_loss: 1.9994 - val_accuracy: 0.4936\n",
            "Epoch 49/50\n",
            "672/672 [==============================] - 9s 13ms/step - loss: 1.3944 - accuracy: 0.6257 - val_loss: 2.0441 - val_accuracy: 0.4757\n",
            "Epoch 50/50\n",
            "672/672 [==============================] - 9s 13ms/step - loss: 1.3895 - accuracy: 0.6279 - val_loss: 2.1765 - val_accuracy: 0.4687\n"
          ],
          "name": "stdout"
        }
      ]
    },
    {
      "cell_type": "code",
      "metadata": {
        "id": "tuuqublEs5lB"
      },
      "source": [
        "import matplotlib.pyplot as plt\n",
        "\n",
        "def plot_history(history):\n",
        "  fig, axs = plt.subplots(2)\n",
        "\n",
        "  #create the accuracy subplot\n",
        "  axs[0].plot(history.history[\"accuracy\"],label=\"train accuracy\")\n",
        "  axs[0].plot(history.history[\"val_accuracy\"],label=\"test accuracy\")\n",
        "  axs[0].set_ylabel(\"Accuracy\")\n",
        "  axs[0].legend(loc=\"best\")\n",
        "  axs[0].set_title(\"accuracy eval\")\n",
        "\n",
        "  # create accuracy\n",
        "  axs[1].plot(history.history[\"loss\"],label=\"train error\")\n",
        "  axs[1].plot(history.history[\"val_loss\"],label=\"test error\")\n",
        "  axs[1].set_ylabel(\"Error\")\n",
        "  axs[1].set_xlabel(\"Epoch\")\n",
        "  axs[1].legend(loc=\"best\")\n",
        "  axs[1].set_title(\"Error eval\")\n",
        "\n",
        "  plt.show()"
      ],
      "execution_count": 31,
      "outputs": []
    },
    {
      "cell_type": "code",
      "metadata": {
        "id": "HddEsN1orJTF",
        "outputId": "124efbe6-93e2-414c-d259-fc305bda6e1f",
        "colab": {
          "base_uri": "https://localhost:8080/",
          "height": 294
        }
      },
      "source": [
        "plot_history(model_history)"
      ],
      "execution_count": 70,
      "outputs": [
        {
          "output_type": "display_data",
          "data": {
            "image/png": "[encoded data removed]",
            "text/plain": [
              "<Figure size 432x288 with 2 Axes>"
            ]
          },
          "metadata": {
            "tags": [],
            "needs_background": "light"
          }
        }
      ]
    },
    {
      "cell_type": "code",
      "metadata": {
        "id": "FNYmcz6EphM5"
      },
      "source": [
        "# Save the model\n",
        "model.save(\"sound_model_trained.h5\")"
      ],
      "execution_count": 71,
      "outputs": []
    },
    {
      "cell_type": "code",
      "metadata": {
        "id": "qRTTH3of7wjJ",
        "outputId": "8af59c0d-ca64-42b6-ec65-da14ec0a7b22",
        "colab": {
          "base_uri": "https://localhost:8080/"
        }
      },
      "source": [
        "model_loss, model_accuracy = model.evaluate(\n",
        "    X_test, y_test, verbose=2)\n",
        "print(\n",
        "    f\"Normal Neural Network - Loss: {model_loss}, Accuracy: {model_accuracy}\")"
      ],
      "execution_count": 72,
      "outputs": [
        {
          "output_type": "stream",
          "text": [
            "292/292 - 1s - loss: 2.1765 - accuracy: 0.4687\n",
            "Normal Neural Network - Loss: 2.1765217781066895, Accuracy: 0.46869638562202454\n"
          ],
          "name": "stdout"
        }
      ]
    }
  ]
}