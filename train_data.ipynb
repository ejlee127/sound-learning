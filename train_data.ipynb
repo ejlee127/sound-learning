{
  "nbformat": 4,
  "nbformat_minor": 0,
  "metadata": {
    "colab": {
      "name": "train_data.ipynb",
      "provenance": [],
      "collapsed_sections": [],
      "authorship_tag": "ABX9TyP6TfekiFx4em0ODJZOp018",
      "include_colab_link": true
    },
    "kernelspec": {
      "name": "python3",
      "display_name": "Python 3"
    }
  },
  "cells": [
    {
      "cell_type": "markdown",
      "metadata": {
        "id": "view-in-github",
        "colab_type": "text"
      },
      "source": [
        "<a href=\"https://colab.research.google.com/github/ejlee127/sound-learning/blob/main/train_data.ipynb\" target=\"_parent\"><img src=\"https://colab.research.google.com/assets/colab-badge.svg\" alt=\"Open In Colab\"/></a>"
      ]
    },
    {
      "cell_type": "code",
      "metadata": {
        "id": "A0r3bsTCLKcX",
        "outputId": "197fed0b-eb40-46b6-b3ac-ee92485717f4",
        "colab": {
          "base_uri": "https://localhost:8080/"
        }
      },
      "source": [
        "import os\n",
        "# Find the latest version of spark 3.0  from http://www-us.apache.org/dist/spark/ and enter as the spark version\n",
        "# For example:\n",
        "spark_version = 'spark-3.0.1'\n",
        "#spark_version = 'spark-3.<enter version>'\n",
        "os.environ['SPARK_VERSION']=spark_version\n",
        "\n",
        "# Install Spark and Java\n",
        "!apt-get update\n",
        "!apt-get install openjdk-11-jdk-headless -qq > /dev/null\n",
        "!wget -q http://www-us.apache.org/dist/spark/$SPARK_VERSION/$SPARK_VERSION-bin-hadoop2.7.tgz\n",
        "!tar xf $SPARK_VERSION-bin-hadoop2.7.tgz\n",
        "!pip install -q findspark\n",
        "\n",
        "# Set Environment Variables\n",
        "os.environ[\"JAVA_HOME\"] = \"/usr/lib/jvm/java-11-openjdk-amd64\"\n",
        "os.environ[\"SPARK_HOME\"] = f\"/content/{spark_version}-bin-hadoop2.7\"\n",
        "\n",
        "# Start a SparkSession\n",
        "import findspark\n",
        "findspark.init()"
      ],
      "execution_count": 1,
      "outputs": [
        {
          "output_type": "stream",
          "text": [
            "\r0% [Working]\r            \rHit:1 http://ppa.launchpad.net/c2d4u.team/c2d4u4.0+/ubuntu bionic InRelease\n",
            "\r0% [Connecting to archive.ubuntu.com (91.189.88.142)] [Connecting to security.u\r                                                                               \rHit:2 http://archive.ubuntu.com/ubuntu bionic InRelease\n",
            "\r0% [Waiting for headers] [Connecting to security.ubuntu.com (91.189.91.38)] [Co\r0% [1 InRelease gpgv 15.9 kB] [Waiting for headers] [Connecting to security.ubu\r                                                                               \rHit:3 http://ppa.launchpad.net/graphics-drivers/ppa/ubuntu bionic InRelease\n",
            "\r0% [1 InRelease gpgv 15.9 kB] [Waiting for headers] [Connecting to security.ubu\r                                                                               \rGet:4 http://archive.ubuntu.com/ubuntu bionic-updates InRelease [88.7 kB]\n",
            "\r0% [1 InRelease gpgv 15.9 kB] [4 InRelease 14.2 kB/88.7 kB 16%] [Connecting to \r                                                                               \rHit:5 https://cloud.r-project.org/bin/linux/ubuntu bionic-cran40/ InRelease\n",
            "Get:6 http://archive.ubuntu.com/ubuntu bionic-backports InRelease [74.6 kB]\n",
            "Get:7 http://security.ubuntu.com/ubuntu bionic-security InRelease [88.7 kB]\n",
            "Ign:8 https://developer.download.nvidia.com/compute/cuda/repos/ubuntu1804/x86_64  InRelease\n",
            "Ign:9 https://developer.download.nvidia.com/compute/machine-learning/repos/ubuntu1804/x86_64  InRelease\n",
            "Hit:10 https://developer.download.nvidia.com/compute/cuda/repos/ubuntu1804/x86_64  Release\n",
            "Hit:11 https://developer.download.nvidia.com/compute/machine-learning/repos/ubuntu1804/x86_64  Release\n",
            "Fetched 252 kB in 2s (149 kB/s)\n",
            "Reading package lists... Done\n"
          ],
          "name": "stdout"
        }
      ]
    },
    {
      "cell_type": "code",
      "metadata": {
        "id": "YUbGjJQra_Gm",
        "outputId": "1a842c32-b11a-47b4-cfe7-8ca5550dfade",
        "colab": {
          "base_uri": "https://localhost:8080/"
        }
      },
      "source": [
        "!wget https://jdbc.postgresql.org/download/postgresql-42.2.9.jar"
      ],
      "execution_count": 2,
      "outputs": [
        {
          "output_type": "stream",
          "text": [
            "--2020-11-04 18:29:40--  https://jdbc.postgresql.org/download/postgresql-42.2.9.jar\n",
            "Resolving jdbc.postgresql.org (jdbc.postgresql.org)... 72.32.157.228, 2001:4800:3e1:1::228\n",
            "Connecting to jdbc.postgresql.org (jdbc.postgresql.org)|72.32.157.228|:443... connected.\n",
            "HTTP request sent, awaiting response... 200 OK\n",
            "Length: 914037 (893K) [application/java-archive]\n",
            "Saving to: ‘postgresql-42.2.9.jar.1’\n",
            "\n",
            "postgresql-42.2.9.j 100%[===================>] 892.61K  1.40MB/s    in 0.6s    \n",
            "\n",
            "2020-11-04 18:29:41 (1.40 MB/s) - ‘postgresql-42.2.9.jar.1’ saved [914037/914037]\n",
            "\n"
          ],
          "name": "stdout"
        }
      ]
    },
    {
      "cell_type": "code",
      "metadata": {
        "id": "4DIeICb3bFyO"
      },
      "source": [
        "from pyspark.sql import SparkSession\n",
        "spark = SparkSession.builder.appName(\"CloudETL\").config(\"spark.driver.extraClassPath\",\"/content/postgresql-42.2.9.jar\").getOrCreate()"
      ],
      "execution_count": 3,
      "outputs": []
    },
    {
      "cell_type": "code",
      "metadata": {
        "id": "W-0uJbG7ps-J"
      },
      "source": [
        "import numpy as np\n",
        "import json\n",
        "# Read in data from S3 Buckets\n",
        "from pyspark import SparkFiles\n",
        "\n",
        "def pulljsonFiles(filename):\n",
        "  json_url=\"https://billdatavizclass.s3.amazonaws.com/\" + filename\n",
        "  spark.sparkContext.addFile(json_url)\n",
        "  data= spark.read.option('multiline','true').json(SparkFiles.get(filename))\n",
        "\n",
        "  # return the data from the file\n",
        "  inputsTmp = data.select(\"mfcc\").collect()\n",
        "  inputs = inputsTmp[0][0] #  \n",
        "  targetsTmp = data.select(\"classID\").collect()\n",
        "  targets = targetsTmp[0][0]\n",
        "\n",
        "  return inputs,targets\n",
        "\n"
      ],
      "execution_count": 4,
      "outputs": []
    },
    {
      "cell_type": "code",
      "metadata": {
        "id": "4LGQIqzkQDF1"
      },
      "source": [
        "def createSet(inputs,targets,currentSet=[], currentTarget=[]):\n",
        "\n",
        "  for i in range(len(inputs)):\n",
        "      currentSet.append(inputs[i])\n",
        "      currentTarget.append(targets[i])\n",
        "  return currentSet, currentTarget"
      ],
      "execution_count": 5,
      "outputs": []
    },
    {
      "cell_type": "code",
      "metadata": {
        "id": "XbyPR2FxM3Fq",
        "outputId": "dc9e0661-dab9-4754-f6b8-2b2f9704c401",
        "colab": {
          "base_uri": "https://localhost:8080/"
        }
      },
      "source": [
        "fileList = [\"data1.json\",\"data2.json\",\"data3.json\",\"data4.json\",\"data5.json\",\"data6.json\",\"data7.json\",\"data8.json\",\"data9.json\",\"data10.json\"]\n",
        "testList = [\"data10.json\"]\n",
        "X_test = []\n",
        "X_train = []\n",
        "y_test = []\n",
        "y_train = []\n",
        "\n",
        "for file in fileList:\n",
        "  inputs, targets = pulljsonFiles(file)\n",
        "  print(np.shape(inputs))\n",
        "  if file in testList: X_test, y_test = createSet(inputs,targets,X_test, y_test)\n",
        "  else: X_train, y_train = createSet(inputs,targets,X_train, y_train)\n",
        "  print(f\"done with file: {file}\")\n",
        "print(\"shape\",np.shape(X_train))\n",
        "print(\"shape\",np.shape(X_test))\n",
        "X_test = np.array(X_test)\n",
        "X_train = np.array(X_train)\n",
        "y_test = np.array(y_test)\n",
        "y_train = np.array(y_train)"
      ],
      "execution_count": 6,
      "outputs": [
        {
          "output_type": "stream",
          "text": [
            "(3106, 44, 13)\n",
            "done with file: data1.json\n",
            "(3076, 44, 13)\n",
            "done with file: data2.json\n",
            "(3337, 44, 13)\n",
            "done with file: data3.json\n",
            "(3454, 44, 13)\n",
            "done with file: data4.json\n",
            "(3248, 44, 13)\n",
            "done with file: data5.json\n",
            "(2901, 44, 13)\n",
            "done with file: data6.json\n",
            "(3010, 44, 13)\n",
            "done with file: data7.json\n",
            "(2809, 44, 13)\n",
            "done with file: data8.json\n",
            "(2910, 44, 13)\n",
            "done with file: data9.json\n",
            "(2974, 44, 13)\n",
            "done with file: data10.json\n",
            "shape (27851, 44, 13)\n",
            "shape (2974, 44, 13)\n"
          ],
          "name": "stdout"
        }
      ]
    },
    {
      "cell_type": "code",
      "metadata": {
        "id": "gDSZu6mlZnbK",
        "outputId": "b47bcb3c-709b-4aec-b090-3fecfd496b4f",
        "colab": {
          "base_uri": "https://localhost:8080/"
        }
      },
      "source": [
        "print(X_train.shape[0],X_train.shape[1], X_train.shape[2])\n",
        "print(y_train.shape[0], y_train.shape[1])\n",
        "print(X_test.shape[0],X_test.shape[1], X_test.shape[2])\n",
        "print(y_test.shape[0], y_test.shape[1])\n"
      ],
      "execution_count": 7,
      "outputs": [
        {
          "output_type": "stream",
          "text": [
            "27851 44 13\n",
            "27851 1\n",
            "2974 44 13\n",
            "2974 1\n"
          ],
          "name": "stdout"
        }
      ]
    },
    {
      "cell_type": "code",
      "metadata": {
        "id": "U33ICt3ygKDp",
        "outputId": "a940c42c-edaa-4ae9-9b4d-7459aadc1bba",
        "colab": {
          "base_uri": "https://localhost:8080/"
        }
      },
      "source": [
        "print(X_train)"
      ],
      "execution_count": 26,
      "outputs": [
        {
          "output_type": "stream",
          "text": [
            "[[[-6.01794495e+02  4.11970062e+01  3.20108414e+01 ... -2.74509740e+00\n",
            "   -2.52226734e+00 -1.33190060e+00]\n",
            "  [-5.97776184e+02  4.62298927e+01  3.53872452e+01 ... -4.28198367e-01\n",
            "   -1.25637817e+00 -1.31263065e+00]\n",
            "  [-5.96598877e+02  4.73582573e+01  3.54797668e+01 ...  1.44725585e+00\n",
            "    5.12672424e-01  8.63579214e-01]\n",
            "  ...\n",
            "  [-5.93491577e+02  4.96914597e+01  3.38171310e+01 ...  3.66332054e+00\n",
            "    4.71112823e+00  5.57440090e+00]\n",
            "  [-5.93208069e+02  5.11510773e+01  3.72942772e+01 ...  4.22459555e+00\n",
            "    2.99432063e+00  4.03167295e+00]\n",
            "  [-5.92189941e+02  5.24554749e+01  3.84227219e+01 ...  5.71697521e+00\n",
            "    2.21275377e+00  2.35637856e+00]]\n",
            "\n",
            " [[-5.10668243e+02  2.89186211e+01  2.65940552e+01 ...  4.19182968e+00\n",
            "    2.47202516e+00  1.18620515e+00]\n",
            "  [-4.61764465e+02  8.29992065e+01  4.85441704e+01 ...  4.16392565e-01\n",
            "   -5.59840775e+00 -2.03919435e+00]\n",
            "  [-3.40975128e+02  1.73004517e+02  7.34781647e+00 ... -1.29536161e+01\n",
            "   -1.49046726e+01 -8.55358028e+00]\n",
            "  ...\n",
            "  [-5.15874634e+02  2.16212692e+01  1.94308662e+01 ...  6.14729691e+00\n",
            "    6.01292038e+00  5.25204563e+00]\n",
            "  [-5.17793518e+02  1.90956612e+01  1.74310913e+01 ...  3.18758917e+00\n",
            "    2.78479099e+00  2.32161641e+00]\n",
            "  [-5.17221863e+02  1.97735291e+01  1.77382469e+01 ...  1.72056389e+00\n",
            "    1.19475389e+00  4.65002298e-01]]\n",
            "\n",
            " [[-5.24256714e+02  1.52110186e+01  1.31096630e+01 ...  5.42718697e+00\n",
            "    6.43819809e+00  6.94948101e+00]\n",
            "  [-5.22142334e+02  1.79079361e+01  1.51865015e+01 ...  6.82974052e+00\n",
            "    7.87816954e+00  8.81098747e+00]\n",
            "  [-5.20079102e+02  2.10005283e+01  1.86350021e+01 ...  8.19222927e+00\n",
            "    8.86883545e+00  9.22299480e+00]\n",
            "  ...\n",
            "  [-2.14736359e+02  1.80517395e+02 -1.29576969e+01 ... -7.16758823e+00\n",
            "   -1.99712963e+01 -4.04267073e+00]\n",
            "  [-2.54003830e+02  1.91609100e+02  1.03121166e+01 ... -6.00587225e+00\n",
            "   -1.59087353e+01  5.52725255e-01]\n",
            "  [-2.86098907e+02  1.75393814e+02  2.61571732e+01 ... -8.86511230e+00\n",
            "   -1.02835588e+01  4.94033051e+00]]\n",
            "\n",
            " ...\n",
            "\n",
            " [[-3.69293793e+02  1.11577263e+02 -5.18095779e+01 ... -2.22270012e+00\n",
            "    1.45918312e+01  3.36969543e+00]\n",
            "  [-3.63831421e+02  1.15145569e+02 -5.57865524e+01 ... -8.85350227e+00\n",
            "    1.12260494e+01  4.95470524e+00]\n",
            "  [-3.74335266e+02  1.14641335e+02 -5.49287949e+01 ... -2.62659931e+00\n",
            "    1.23654842e+01  6.19336367e+00]\n",
            "  ...\n",
            "  [-4.01868835e+02  1.10830170e+02 -3.72563057e+01 ... -1.90335250e+00\n",
            "   -3.71863747e+00  2.67646050e+00]\n",
            "  [-4.01320984e+02  1.14482063e+02 -3.65243912e+01 ... -2.32991982e+00\n",
            "   -1.76814890e+00  3.89392829e+00]\n",
            "  [-4.06907074e+02  1.15717239e+02 -2.90078812e+01 ... -1.70003164e+00\n",
            "    2.17020178e+00  6.45683575e+00]]\n",
            "\n",
            " [[-4.04629517e+02  1.12832596e+02 -3.33922195e+01 ... -2.47115088e+00\n",
            "    7.48131514e-01  6.25673771e+00]\n",
            "  [-4.09268860e+02  1.08383453e+02 -3.32677994e+01 ... -4.51651335e+00\n",
            "    4.61763918e-01  5.62408829e+00]\n",
            "  [-4.12093750e+02  1.09120697e+02 -3.29838486e+01 ... -8.15984821e+00\n",
            "    2.15084672e+00  6.19928455e+00]\n",
            "  ...\n",
            "  [-3.85957123e+02  1.12679413e+02 -3.02398224e+01 ...  5.31104946e+00\n",
            "    9.05015659e+00 -4.83321190e+00]\n",
            "  [-3.87034790e+02  1.16037659e+02 -2.73372669e+01 ...  1.65478182e+00\n",
            "    7.77624750e+00 -3.46294308e+00]\n",
            "  [-3.88888611e+02  1.13226379e+02 -2.44461823e+01 ... -5.02606249e+00\n",
            "    6.57719564e+00  2.97527027e+00]]\n",
            "\n",
            " [[-3.90385590e+02  1.18573410e+02 -2.84121609e+01 ...  1.35867596e+00\n",
            "    1.71481590e+01  1.58072233e+00]\n",
            "  [-3.88816162e+02  1.18142960e+02 -2.71930122e+01 ...  7.91350651e+00\n",
            "    1.90302925e+01  1.92571104e-01]\n",
            "  [-3.88429657e+02  1.24655945e+02 -3.28488617e+01 ...  1.28600969e+01\n",
            "    1.84939308e+01  3.54328454e-01]\n",
            "  ...\n",
            "  [-3.48492126e+02  8.91161194e+01 -5.36174088e+01 ...  3.34207392e+00\n",
            "    2.80265045e+01  1.26590471e+01]\n",
            "  [-3.49012512e+02  9.37536011e+01 -5.40923538e+01 ...  4.01405334e-01\n",
            "    2.21965218e+01  7.26554728e+00]\n",
            "  [-3.52016693e+02  9.59254532e+01 -5.00662079e+01 ...  1.44422531e-01\n",
            "    1.93437710e+01  8.47566319e+00]]]\n"
          ],
          "name": "stdout"
        }
      ]
    },
    {
      "cell_type": "code",
      "metadata": {
        "id": "iGtgJ_KAxlbW"
      },
      "source": [
        "from sklearn.model_selection import train_test_split\n",
        "import tensorflow.keras as keras\n",
        "from tensorflow.keras.models import Sequential\n",
        "from tensorflow.keras.layers import Dense\n"
      ],
      "execution_count": 12,
      "outputs": []
    },
    {
      "cell_type": "code",
      "metadata": {
        "id": "MDn6qvBW25kf"
      },
      "source": [
        "# build the network architecture\n",
        "model = keras.Sequential([\n",
        "    # input layer\n",
        "    keras.layers.Flatten(input_shape=(X_train.shape[1], X_train.shape[2])),\n",
        "    \n",
        "    # lst hidden layer\n",
        "    keras.layers.Dense(512, activation=\"relu\"),\n",
        "    \n",
        "    # 2nd hidden layer\n",
        "    keras.layers.Dense(256, activation=\"relu\"),\n",
        "    \n",
        "    # 3rd hidden layer\n",
        "    keras.layers.Dense(64, activation=\"relu\"),\n",
        "    \n",
        "    # output layer\n",
        "    keras.layers.Dense(10, activation=\"softmax\")\n",
        "])"
      ],
      "execution_count": 13,
      "outputs": []
    },
    {
      "cell_type": "code",
      "metadata": {
        "id": "72xPIY_S253Q",
        "outputId": "e8e0cb38-d16a-4d36-b7bd-c6fe95e36850",
        "colab": {
          "base_uri": "https://localhost:8080/"
        }
      },
      "source": [
        "# compile network : example\n",
        "# optimizer = keras.optimizers.Adam(learning_rate=0.0001)\n",
        "model.compile(optimizer='adam',\n",
        "             loss = \"sparse_categorical_crossentropy\",\n",
        "             metrics=[\"accuracy\"])\n",
        "model.summary()"
      ],
      "execution_count": 16,
      "outputs": [
        {
          "output_type": "stream",
          "text": [
            "Model: \"sequential_1\"\n",
            "_________________________________________________________________\n",
            "Layer (type)                 Output Shape              Param #   \n",
            "=================================================================\n",
            "flatten_1 (Flatten)          (None, 572)               0         \n",
            "_________________________________________________________________\n",
            "dense_4 (Dense)              (None, 512)               293376    \n",
            "_________________________________________________________________\n",
            "dense_5 (Dense)              (None, 256)               131328    \n",
            "_________________________________________________________________\n",
            "dense_6 (Dense)              (None, 64)                16448     \n",
            "_________________________________________________________________\n",
            "dense_7 (Dense)              (None, 10)                650       \n",
            "=================================================================\n",
            "Total params: 441,802\n",
            "Trainable params: 441,802\n",
            "Non-trainable params: 0\n",
            "_________________________________________________________________\n"
          ],
          "name": "stdout"
        }
      ]
    },
    {
      "cell_type": "code",
      "metadata": {
        "id": "haDAhLiO63TT",
        "outputId": "5cbfc522-e943-4c8e-e9e0-dad5d8f35139",
        "colab": {
          "base_uri": "https://localhost:8080/"
        }
      },
      "source": [
        "# train network\n",
        "model_history = model.fit(X_train, y_train, validation_data=(X_test, y_test), epochs=50, batch_size=32)\n",
        "\n",
        "## overfitting -- identify"
      ],
      "execution_count": 17,
      "outputs": [
        {
          "output_type": "stream",
          "text": [
            "Epoch 1/50\n",
            "871/871 [==============================] - 4s 5ms/step - loss: 2.7805 - accuracy: 0.4487 - val_loss: 1.9749 - val_accuracy: 0.4425\n",
            "Epoch 2/50\n",
            "871/871 [==============================] - 4s 5ms/step - loss: 1.1404 - accuracy: 0.6143 - val_loss: 2.0571 - val_accuracy: 0.4839\n",
            "Epoch 3/50\n",
            "871/871 [==============================] - 4s 5ms/step - loss: 0.9355 - accuracy: 0.6854 - val_loss: 2.1196 - val_accuracy: 0.5013\n",
            "Epoch 4/50\n",
            "871/871 [==============================] - 4s 5ms/step - loss: 0.8083 - accuracy: 0.7318 - val_loss: 2.4428 - val_accuracy: 0.5313\n",
            "Epoch 5/50\n",
            "871/871 [==============================] - 4s 5ms/step - loss: 0.7390 - accuracy: 0.7571 - val_loss: 2.7087 - val_accuracy: 0.4637\n",
            "Epoch 6/50\n",
            "871/871 [==============================] - 4s 5ms/step - loss: 0.6672 - accuracy: 0.7815 - val_loss: 2.8619 - val_accuracy: 0.4398\n",
            "Epoch 7/50\n",
            "871/871 [==============================] - 4s 5ms/step - loss: 0.6086 - accuracy: 0.7974 - val_loss: 3.4350 - val_accuracy: 0.4129\n",
            "Epoch 8/50\n",
            "871/871 [==============================] - 4s 5ms/step - loss: 0.5572 - accuracy: 0.8133 - val_loss: 3.3788 - val_accuracy: 0.4832\n",
            "Epoch 9/50\n",
            "871/871 [==============================] - 4s 5ms/step - loss: 0.5162 - accuracy: 0.8293 - val_loss: 3.3459 - val_accuracy: 0.4687\n",
            "Epoch 10/50\n",
            "871/871 [==============================] - 4s 5ms/step - loss: 0.4665 - accuracy: 0.8447 - val_loss: 3.1352 - val_accuracy: 0.5269\n",
            "Epoch 11/50\n",
            "871/871 [==============================] - 4s 5ms/step - loss: 0.4502 - accuracy: 0.8510 - val_loss: 3.7505 - val_accuracy: 0.4674\n",
            "Epoch 12/50\n",
            "871/871 [==============================] - 4s 5ms/step - loss: 0.4210 - accuracy: 0.8600 - val_loss: 3.9355 - val_accuracy: 0.4667\n",
            "Epoch 13/50\n",
            "871/871 [==============================] - 4s 5ms/step - loss: 0.3715 - accuracy: 0.8770 - val_loss: 4.5514 - val_accuracy: 0.4254\n",
            "Epoch 14/50\n",
            "871/871 [==============================] - 4s 5ms/step - loss: 0.3666 - accuracy: 0.8777 - val_loss: 4.1752 - val_accuracy: 0.4768\n",
            "Epoch 15/50\n",
            "871/871 [==============================] - 4s 5ms/step - loss: 0.3539 - accuracy: 0.8837 - val_loss: 4.1845 - val_accuracy: 0.4741\n",
            "Epoch 16/50\n",
            "871/871 [==============================] - 4s 5ms/step - loss: 0.3303 - accuracy: 0.8924 - val_loss: 4.3342 - val_accuracy: 0.4536\n",
            "Epoch 17/50\n",
            "871/871 [==============================] - 4s 5ms/step - loss: 0.3132 - accuracy: 0.8989 - val_loss: 4.2999 - val_accuracy: 0.4593\n",
            "Epoch 18/50\n",
            "871/871 [==============================] - 4s 5ms/step - loss: 0.3136 - accuracy: 0.8972 - val_loss: 4.5088 - val_accuracy: 0.4576\n",
            "Epoch 19/50\n",
            "871/871 [==============================] - 4s 5ms/step - loss: 0.2698 - accuracy: 0.9106 - val_loss: 4.4167 - val_accuracy: 0.4613\n",
            "Epoch 20/50\n",
            "871/871 [==============================] - 4s 5ms/step - loss: 0.2840 - accuracy: 0.9084 - val_loss: 5.8006 - val_accuracy: 0.4459\n",
            "Epoch 21/50\n",
            "871/871 [==============================] - 4s 5ms/step - loss: 0.2686 - accuracy: 0.9133 - val_loss: 5.5236 - val_accuracy: 0.4388\n",
            "Epoch 22/50\n",
            "871/871 [==============================] - 4s 5ms/step - loss: 0.2460 - accuracy: 0.9181 - val_loss: 5.9290 - val_accuracy: 0.4301\n",
            "Epoch 23/50\n",
            "871/871 [==============================] - 4s 5ms/step - loss: 0.2593 - accuracy: 0.9149 - val_loss: 5.2535 - val_accuracy: 0.4432\n",
            "Epoch 24/50\n",
            "871/871 [==============================] - 4s 5ms/step - loss: 0.2360 - accuracy: 0.9206 - val_loss: 5.5694 - val_accuracy: 0.4677\n",
            "Epoch 25/50\n",
            "871/871 [==============================] - 4s 5ms/step - loss: 0.2344 - accuracy: 0.9216 - val_loss: 4.7351 - val_accuracy: 0.4768\n",
            "Epoch 26/50\n",
            "871/871 [==============================] - 4s 5ms/step - loss: 0.2469 - accuracy: 0.9235 - val_loss: 5.2529 - val_accuracy: 0.4956\n",
            "Epoch 27/50\n",
            "871/871 [==============================] - 4s 5ms/step - loss: 0.2058 - accuracy: 0.9317 - val_loss: 6.1001 - val_accuracy: 0.4499\n",
            "Epoch 28/50\n",
            "871/871 [==============================] - 4s 5ms/step - loss: 0.2276 - accuracy: 0.9251 - val_loss: 6.1935 - val_accuracy: 0.4664\n",
            "Epoch 29/50\n",
            "871/871 [==============================] - 4s 5ms/step - loss: 0.2146 - accuracy: 0.9321 - val_loss: 6.2850 - val_accuracy: 0.4539\n",
            "Epoch 30/50\n",
            "871/871 [==============================] - 4s 5ms/step - loss: 0.1974 - accuracy: 0.9363 - val_loss: 6.7235 - val_accuracy: 0.4502\n",
            "Epoch 31/50\n",
            "871/871 [==============================] - 4s 5ms/step - loss: 0.1952 - accuracy: 0.9367 - val_loss: 7.3835 - val_accuracy: 0.4647\n",
            "Epoch 32/50\n",
            "871/871 [==============================] - 4s 5ms/step - loss: 0.2233 - accuracy: 0.9321 - val_loss: 6.8187 - val_accuracy: 0.4452\n",
            "Epoch 33/50\n",
            "871/871 [==============================] - 4s 5ms/step - loss: 0.1855 - accuracy: 0.9408 - val_loss: 7.5398 - val_accuracy: 0.4240\n",
            "Epoch 34/50\n",
            "871/871 [==============================] - 4s 5ms/step - loss: 0.1989 - accuracy: 0.9391 - val_loss: 7.4091 - val_accuracy: 0.4549\n",
            "Epoch 35/50\n",
            "871/871 [==============================] - 4s 5ms/step - loss: 0.1921 - accuracy: 0.9374 - val_loss: 7.5127 - val_accuracy: 0.4523\n",
            "Epoch 36/50\n",
            "871/871 [==============================] - 4s 5ms/step - loss: 0.1845 - accuracy: 0.9412 - val_loss: 7.8710 - val_accuracy: 0.4449\n",
            "Epoch 37/50\n",
            "871/871 [==============================] - 4s 5ms/step - loss: 0.1907 - accuracy: 0.9398 - val_loss: 5.8891 - val_accuracy: 0.4623\n",
            "Epoch 38/50\n",
            "871/871 [==============================] - 4s 5ms/step - loss: 0.1870 - accuracy: 0.9414 - val_loss: 7.3710 - val_accuracy: 0.4499\n",
            "Epoch 39/50\n",
            "871/871 [==============================] - 4s 5ms/step - loss: 0.1832 - accuracy: 0.9426 - val_loss: 6.6102 - val_accuracy: 0.4771\n",
            "Epoch 40/50\n",
            "871/871 [==============================] - 4s 5ms/step - loss: 0.1664 - accuracy: 0.9489 - val_loss: 6.5050 - val_accuracy: 0.4563\n",
            "Epoch 41/50\n",
            "871/871 [==============================] - 4s 5ms/step - loss: 0.1659 - accuracy: 0.9483 - val_loss: 5.4669 - val_accuracy: 0.4980\n",
            "Epoch 42/50\n",
            "871/871 [==============================] - 4s 5ms/step - loss: 0.1562 - accuracy: 0.9507 - val_loss: 5.2237 - val_accuracy: 0.5000\n",
            "Epoch 43/50\n",
            "871/871 [==============================] - 4s 5ms/step - loss: 0.1789 - accuracy: 0.9459 - val_loss: 5.1567 - val_accuracy: 0.4818\n",
            "Epoch 44/50\n",
            "871/871 [==============================] - 4s 5ms/step - loss: 0.1710 - accuracy: 0.9478 - val_loss: 6.9020 - val_accuracy: 0.4738\n",
            "Epoch 45/50\n",
            "871/871 [==============================] - 4s 5ms/step - loss: 0.1804 - accuracy: 0.9460 - val_loss: 7.8855 - val_accuracy: 0.4758\n",
            "Epoch 46/50\n",
            "871/871 [==============================] - 4s 5ms/step - loss: 0.1516 - accuracy: 0.9534 - val_loss: 7.7529 - val_accuracy: 0.4375\n",
            "Epoch 47/50\n",
            "871/871 [==============================] - 4s 5ms/step - loss: 0.1437 - accuracy: 0.9525 - val_loss: 8.0033 - val_accuracy: 0.4401\n",
            "Epoch 48/50\n",
            "871/871 [==============================] - 4s 5ms/step - loss: 0.1544 - accuracy: 0.9517 - val_loss: 7.3978 - val_accuracy: 0.4654\n",
            "Epoch 49/50\n",
            "871/871 [==============================] - 4s 5ms/step - loss: 0.1646 - accuracy: 0.9507 - val_loss: 8.1283 - val_accuracy: 0.4223\n",
            "Epoch 50/50\n",
            "871/871 [==============================] - 4s 5ms/step - loss: 0.1388 - accuracy: 0.9569 - val_loss: 7.2087 - val_accuracy: 0.4516\n"
          ],
          "name": "stdout"
        },
        {
          "output_type": "execute_result",
          "data": {
            "text/plain": [
              "<tensorflow.python.keras.callbacks.History at 0x7fb7004576a0>"
            ]
          },
          "metadata": {
            "tags": []
          },
          "execution_count": 17
        }
      ]
    },
    {
      "cell_type": "code",
      "metadata": {
        "id": "HddEsN1orJTF"
      },
      "source": [
        ""
      ],
      "execution_count": null,
      "outputs": []
    },
    {
      "cell_type": "code",
      "metadata": {
        "id": "FNYmcz6EphM5"
      },
      "source": [
        "# Save the model\n",
        "model.save(\"sound_model_trained.h5\")"
      ],
      "execution_count": 19,
      "outputs": []
    },
    {
      "cell_type": "code",
      "metadata": {
        "id": "qRTTH3of7wjJ",
        "outputId": "51fc6693-4364-4394-eb6f-bf76063c7721",
        "colab": {
          "base_uri": "https://localhost:8080/"
        }
      },
      "source": [
        "model_loss, model_accuracy = model.evaluate(\n",
        "    X_test, y_test, verbose=2)\n",
        "print(\n",
        "    f\"Normal Neural Network - Loss: {model_loss}, Accuracy: {model_accuracy}\")"
      ],
      "execution_count": 18,
      "outputs": [
        {
          "output_type": "stream",
          "text": [
            "93/93 - 0s - loss: 7.2087 - accuracy: 0.4516\n",
            "Normal Neural Network - Loss: 7.208740234375, Accuracy: 0.45158037543296814\n"
          ],
          "name": "stdout"
        }
      ]
    }
  ]
}