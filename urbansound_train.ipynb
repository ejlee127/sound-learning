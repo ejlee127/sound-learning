{
 "cells": [
  {
   "cell_type": "markdown",
   "metadata": {},
   "source": [
    "# Urbansound machine learning\n",
    "\n",
    "model, train\n",
    "\n",
    "* The codes : learned from\n",
    "\n",
    "- youtube video series \"Deep Learning (for audio) using Python\" -- using librosa\n",
    "    https://www.youtube.com/watch?v=m3XbqfIij_Y  and more"
   ]
  },
  {
   "cell_type": "code",
   "execution_count": 2,
   "metadata": {},
   "outputs": [],
   "source": [
    "import json\n",
    "import numpy as np\n",
    "from sklearn.model_selection import train_test_split\n",
    "import tensorflow.keras as keras"
   ]
  },
  {
   "cell_type": "code",
   "execution_count": 3,
   "metadata": {},
   "outputs": [],
   "source": [
    "# load data\n",
    "\n",
    "DATASET_PATH = \"data.json\"  # check why it is 10....    number of segments.. \n",
    "\n",
    "def load_data(dataset_path):\n",
    "    with open(dataset_path, \"r\") as fp:\n",
    "        data = json.load(fp)\n",
    "\n",
    "    # convert list into numpy array\n",
    "    inputs = np.array(data[\"mfcc\"]) # inputs = 3 dim array.. 0 is \n",
    "    targets = np.array(data[\"classID\"])\n",
    "    \n",
    "    return inputs, targets\n"
   ]
  },
  {
   "cell_type": "code",
   "execution_count": 5,
   "metadata": {},
   "outputs": [],
   "source": [
    "# split the data into train and test sets\n",
    "inputs, targets = load_data(DATASET_PATH)\n",
    "X_train, X_test, y_train, y_test = train_test_split(inputs, targets, test_size=0.3)"
   ]
  },
  {
   "cell_type": "code",
   "execution_count": 7,
   "metadata": {},
   "outputs": [],
   "source": [
    "# build the network architecture\n",
    "model = keras.Sequential([\n",
    "    # input layer\n",
    "    keras.layers.Flatten(input_shape=(inputs.shape[1], inputs.shape[2])),\n",
    "    \n",
    "    # lst hidden layer\n",
    "    keras.layers.Dense(512, activation=\"relu\"),\n",
    "    \n",
    "    # 2nd hidden layer\n",
    "    keras.layers.Dense(256, activation=\"relu\"),\n",
    "    \n",
    "    # 3rd hidden layer\n",
    "    keras.layers.Dense(64, activation=\"relu\"),\n",
    "    \n",
    "    # output layer\n",
    "    keras.layers.Dense(10, activation=\"softmax\")\n",
    "])"
   ]
  },
  {
   "cell_type": "code",
   "execution_count": 9,
   "metadata": {},
   "outputs": [
    {
     "name": "stdout",
     "output_type": "stream",
     "text": [
      "Model: \"sequential\"\n",
      "_________________________________________________________________\n",
      "Layer (type)                 Output Shape              Param #   \n",
      "=================================================================\n",
      "flatten (Flatten)            (None, 572)               0         \n",
      "_________________________________________________________________\n",
      "dense (Dense)                (None, 512)               293376    \n",
      "_________________________________________________________________\n",
      "dense_1 (Dense)              (None, 256)               131328    \n",
      "_________________________________________________________________\n",
      "dense_2 (Dense)              (None, 64)                16448     \n",
      "_________________________________________________________________\n",
      "dense_3 (Dense)              (None, 10)                650       \n",
      "=================================================================\n",
      "Total params: 441,802\n",
      "Trainable params: 441,802\n",
      "Non-trainable params: 0\n",
      "_________________________________________________________________\n"
     ]
    }
   ],
   "source": [
    "# compile network : example\n",
    "optimizer = keras.optimizers.Adam(learning_rate=0.0001)\n",
    "model.compile(optimizer=optimizer,\n",
    "             loss = \"sparse_categorical_crossentropy\",\n",
    "             metrics=[\"accuracy\"])\n",
    "model.summary()"
   ]
  },
  {
   "cell_type": "code",
   "execution_count": 10,
   "metadata": {},
   "outputs": [
    {
     "name": "stdout",
     "output_type": "stream",
     "text": [
      "Epoch 1/50\n",
      "1/1 [==============================] - 0s 232ms/step - loss: 119.0680 - accuracy: 0.0000e+00 - val_loss: 40.9384 - val_accuracy: 0.2000\n",
      "Epoch 2/50\n",
      "1/1 [==============================] - 0s 38ms/step - loss: 57.6060 - accuracy: 0.0000e+00 - val_loss: 4.2467 - val_accuracy: 0.6000\n",
      "Epoch 3/50\n",
      "1/1 [==============================] - 0s 31ms/step - loss: 10.7521 - accuracy: 0.5000 - val_loss: 4.2035 - val_accuracy: 0.8000\n",
      "Epoch 4/50\n",
      "1/1 [==============================] - 0s 31ms/step - loss: 0.3169 - accuracy: 0.9000 - val_loss: 5.9273 - val_accuracy: 0.8000\n",
      "Epoch 5/50\n",
      "1/1 [==============================] - 0s 39ms/step - loss: 0.0021 - accuracy: 1.0000 - val_loss: 8.0071 - val_accuracy: 0.8000\n",
      "Epoch 6/50\n",
      "1/1 [==============================] - 0s 36ms/step - loss: 0.0026 - accuracy: 1.0000 - val_loss: 9.7985 - val_accuracy: 0.8000\n",
      "Epoch 7/50\n",
      "1/1 [==============================] - 0s 37ms/step - loss: 0.0046 - accuracy: 1.0000 - val_loss: 11.3226 - val_accuracy: 0.8000\n",
      "Epoch 8/50\n",
      "1/1 [==============================] - 0s 50ms/step - loss: 0.0107 - accuracy: 1.0000 - val_loss: 12.6186 - val_accuracy: 0.8000\n",
      "Epoch 9/50\n",
      "1/1 [==============================] - 0s 29ms/step - loss: 0.0190 - accuracy: 1.0000 - val_loss: 13.6981 - val_accuracy: 0.8000\n",
      "Epoch 10/50\n",
      "1/1 [==============================] - 0s 41ms/step - loss: 0.0143 - accuracy: 1.0000 - val_loss: 14.6146 - val_accuracy: 0.8000\n",
      "Epoch 11/50\n",
      "1/1 [==============================] - 0s 36ms/step - loss: 0.0058 - accuracy: 1.0000 - val_loss: 15.4227 - val_accuracy: 0.8000\n",
      "Epoch 12/50\n",
      "1/1 [==============================] - 0s 65ms/step - loss: 0.0019 - accuracy: 1.0000 - val_loss: 16.1426 - val_accuracy: 0.8000\n",
      "Epoch 13/50\n",
      "1/1 [==============================] - 0s 42ms/step - loss: 6.3503e-04 - accuracy: 1.0000 - val_loss: 16.7929 - val_accuracy: 0.8000\n",
      "Epoch 14/50\n",
      "1/1 [==============================] - 0s 38ms/step - loss: 2.2831e-04 - accuracy: 1.0000 - val_loss: 17.3731 - val_accuracy: 0.8000\n",
      "Epoch 15/50\n",
      "1/1 [==============================] - 0s 63ms/step - loss: 8.9224e-05 - accuracy: 1.0000 - val_loss: 17.9023 - val_accuracy: 0.8000\n",
      "Epoch 16/50\n",
      "1/1 [==============================] - 0s 72ms/step - loss: 3.7425e-05 - accuracy: 1.0000 - val_loss: 18.3802 - val_accuracy: 0.8000\n",
      "Epoch 17/50\n",
      "1/1 [==============================] - 0s 72ms/step - loss: 1.9584e-05 - accuracy: 1.0000 - val_loss: 18.8124 - val_accuracy: 0.8000\n",
      "Epoch 18/50\n",
      "1/1 [==============================] - 0s 69ms/step - loss: 1.0979e-05 - accuracy: 1.0000 - val_loss: 19.1968 - val_accuracy: 0.8000\n",
      "Epoch 19/50\n",
      "1/1 [==============================] - 0s 71ms/step - loss: 6.2464e-06 - accuracy: 1.0000 - val_loss: 19.5370 - val_accuracy: 0.8000\n",
      "Epoch 20/50\n",
      "1/1 [==============================] - 0s 60ms/step - loss: 3.8027e-06 - accuracy: 1.0000 - val_loss: 19.8449 - val_accuracy: 0.8000\n",
      "Epoch 21/50\n",
      "1/1 [==============================] - 0s 44ms/step - loss: 2.4199e-06 - accuracy: 1.0000 - val_loss: 20.1234 - val_accuracy: 0.8000\n",
      "Epoch 22/50\n",
      "1/1 [==============================] - 0s 42ms/step - loss: 1.5855e-06 - accuracy: 1.0000 - val_loss: 20.3756 - val_accuracy: 0.8000\n",
      "Epoch 23/50\n",
      "1/1 [==============================] - 0s 44ms/step - loss: 1.0848e-06 - accuracy: 1.0000 - val_loss: 20.6044 - val_accuracy: 0.8000\n",
      "Epoch 24/50\n",
      "1/1 [==============================] - 0s 48ms/step - loss: 7.6294e-07 - accuracy: 1.0000 - val_loss: 20.8112 - val_accuracy: 0.8000\n",
      "Epoch 25/50\n",
      "1/1 [==============================] - 0s 37ms/step - loss: 5.3644e-07 - accuracy: 1.0000 - val_loss: 20.9979 - val_accuracy: 0.8000\n",
      "Epoch 26/50\n",
      "1/1 [==============================] - 0s 48ms/step - loss: 3.9339e-07 - accuracy: 1.0000 - val_loss: 21.1674 - val_accuracy: 0.8000\n",
      "Epoch 27/50\n",
      "1/1 [==============================] - 0s 49ms/step - loss: 2.9802e-07 - accuracy: 1.0000 - val_loss: 21.3214 - val_accuracy: 0.8000\n",
      "Epoch 28/50\n",
      "1/1 [==============================] - 0s 61ms/step - loss: 2.2650e-07 - accuracy: 1.0000 - val_loss: 21.4614 - val_accuracy: 0.8000\n",
      "Epoch 29/50\n",
      "1/1 [==============================] - 0s 78ms/step - loss: 1.7881e-07 - accuracy: 1.0000 - val_loss: 21.5848 - val_accuracy: 0.8000\n",
      "Epoch 30/50\n",
      "1/1 [==============================] - 0s 112ms/step - loss: 1.5497e-07 - accuracy: 1.0000 - val_loss: 21.6958 - val_accuracy: 0.8000\n",
      "Epoch 31/50\n",
      "1/1 [==============================] - 0s 71ms/step - loss: 1.1921e-07 - accuracy: 1.0000 - val_loss: 21.7967 - val_accuracy: 0.8000\n",
      "Epoch 32/50\n",
      "1/1 [==============================] - 0s 51ms/step - loss: 1.0729e-07 - accuracy: 1.0000 - val_loss: 21.8884 - val_accuracy: 0.8000\n",
      "Epoch 33/50\n",
      "1/1 [==============================] - 0s 50ms/step - loss: 9.5367e-08 - accuracy: 1.0000 - val_loss: 21.9718 - val_accuracy: 0.8000\n",
      "Epoch 34/50\n",
      "1/1 [==============================] - 0s 42ms/step - loss: 7.1526e-08 - accuracy: 1.0000 - val_loss: 22.0476 - val_accuracy: 0.8000\n",
      "Epoch 35/50\n",
      "1/1 [==============================] - 0s 39ms/step - loss: 5.9605e-08 - accuracy: 1.0000 - val_loss: 22.1165 - val_accuracy: 0.8000\n",
      "Epoch 36/50\n",
      "1/1 [==============================] - 0s 35ms/step - loss: 5.9605e-08 - accuracy: 1.0000 - val_loss: 22.1792 - val_accuracy: 0.8000\n",
      "Epoch 37/50\n",
      "1/1 [==============================] - 0s 52ms/step - loss: 4.7684e-08 - accuracy: 1.0000 - val_loss: 22.2369 - val_accuracy: 0.8000\n",
      "Epoch 38/50\n",
      "1/1 [==============================] - 0s 59ms/step - loss: 4.7684e-08 - accuracy: 1.0000 - val_loss: 22.2892 - val_accuracy: 0.8000\n",
      "Epoch 39/50\n",
      "1/1 [==============================] - 0s 50ms/step - loss: 4.7684e-08 - accuracy: 1.0000 - val_loss: 22.3368 - val_accuracy: 0.8000\n",
      "Epoch 40/50\n",
      "1/1 [==============================] - 0s 42ms/step - loss: 4.7684e-08 - accuracy: 1.0000 - val_loss: 22.3800 - val_accuracy: 0.8000\n",
      "Epoch 41/50\n",
      "1/1 [==============================] - 0s 58ms/step - loss: 3.5763e-08 - accuracy: 1.0000 - val_loss: 22.4192 - val_accuracy: 0.8000\n",
      "Epoch 42/50\n",
      "1/1 [==============================] - 0s 39ms/step - loss: 3.5763e-08 - accuracy: 1.0000 - val_loss: 22.4548 - val_accuracy: 0.8000\n",
      "Epoch 43/50\n",
      "1/1 [==============================] - 0s 30ms/step - loss: 3.5763e-08 - accuracy: 1.0000 - val_loss: 22.4872 - val_accuracy: 0.8000\n",
      "Epoch 44/50\n",
      "1/1 [==============================] - 0s 43ms/step - loss: 3.5763e-08 - accuracy: 1.0000 - val_loss: 22.5165 - val_accuracy: 0.8000\n",
      "Epoch 45/50\n",
      "1/1 [==============================] - 0s 35ms/step - loss: 3.5763e-08 - accuracy: 1.0000 - val_loss: 22.5431 - val_accuracy: 0.8000\n",
      "Epoch 46/50\n",
      "1/1 [==============================] - 0s 32ms/step - loss: 3.5763e-08 - accuracy: 1.0000 - val_loss: 22.5672 - val_accuracy: 0.8000\n",
      "Epoch 47/50\n",
      "1/1 [==============================] - 0s 35ms/step - loss: 3.5763e-08 - accuracy: 1.0000 - val_loss: 22.5890 - val_accuracy: 0.8000\n",
      "Epoch 48/50\n",
      "1/1 [==============================] - 0s 30ms/step - loss: 2.3842e-08 - accuracy: 1.0000 - val_loss: 22.6089 - val_accuracy: 0.8000\n",
      "Epoch 49/50\n",
      "1/1 [==============================] - 0s 37ms/step - loss: 2.3842e-08 - accuracy: 1.0000 - val_loss: 22.6268 - val_accuracy: 0.8000\n",
      "Epoch 50/50\n",
      "1/1 [==============================] - 0s 31ms/step - loss: 1.1921e-08 - accuracy: 1.0000 - val_loss: 22.6431 - val_accuracy: 0.8000\n"
     ]
    },
    {
     "data": {
      "text/plain": [
       "<tensorflow.python.keras.callbacks.History at 0x7f900d53c5c0>"
      ]
     },
     "execution_count": 10,
     "metadata": {},
     "output_type": "execute_result"
    }
   ],
   "source": [
    "# train network\n",
    "model.fit(X_train, y_train, validation_data=(X_test, y_test), epochs=50, batch_size=32)\n",
    "\n",
    "## overfitting -- identify"
   ]
  },
  {
   "cell_type": "code",
   "execution_count": null,
   "metadata": {},
   "outputs": [],
   "source": []
  }
 ],
 "metadata": {
  "kernelspec": {
   "display_name": "Python [conda env:PythonAdv]",
   "language": "python",
   "name": "conda-env-PythonAdv-py"
  },
  "language_info": {
   "codemirror_mode": {
    "name": "ipython",
    "version": 3
   },
   "file_extension": ".py",
   "mimetype": "text/x-python",
   "name": "python",
   "nbconvert_exporter": "python",
   "pygments_lexer": "ipython3",
   "version": "3.6.10"
  }
 },
 "nbformat": 4,
 "nbformat_minor": 4
}
