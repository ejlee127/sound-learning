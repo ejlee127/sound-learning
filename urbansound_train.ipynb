{
 "cells": [
  {
   "cell_type": "markdown",
   "metadata": {},
   "source": [
    "# Urbansound machine learning\n",
    "\n",
    "model, train\n",
    "\n",
    "* The codes : learned from\n",
    "\n",
    "- youtube video series \"Deep Learning (for audio) using Python\" -- using librosa\n",
    "    https://www.youtube.com/watch?v=m3XbqfIij_Y  and more"
   ]
  },
  {
   "cell_type": "code",
   "execution_count": 1,
   "metadata": {},
   "outputs": [],
   "source": [
    "import json\n",
    "import numpy as np\n",
    "from sklearn.model_selection import train_test_split\n",
    "import tensorflow.keras as keras"
   ]
  },
  {
   "cell_type": "code",
   "execution_count": 2,
   "metadata": {},
   "outputs": [],
   "source": [
    "# load data\n",
    "\n",
    "DATASET_PATH = \"data.json\"  # check why it is 10....    number of segments.. \n",
    "\n",
    "def load_data(dataset_path):\n",
    "    with open(dataset_path, \"r\") as fp:\n",
    "        data = json.load(fp)\n",
    "\n",
    "    # convert list into numpy array\n",
    "    inputs = np.array(data[\"mfcc\"]) # inputs = 3 dim array.. 0 is \n",
    "    targets = np.array(data[\"classID\"])\n",
    "    \n",
    "    return inputs, targets\n"
   ]
  },
  {
   "cell_type": "code",
   "execution_count": 3,
   "metadata": {},
   "outputs": [],
   "source": [
    "# split the data into train and test sets\n",
    "inputs, targets = load_data(DATASET_PATH)\n",
    "X_train, X_test, y_train, y_test = train_test_split(inputs, targets, test_size=0.3)"
   ]
  },
  {
   "cell_type": "code",
   "execution_count": 4,
   "metadata": {},
   "outputs": [],
   "source": [
    "# build the network architecture\n",
    "model = keras.Sequential([\n",
    "    # input layer\n",
    "    keras.layers.Flatten(input_shape=(inputs.shape[1], inputs.shape[2])),\n",
    "    \n",
    "    # lst hidden layer\n",
    "    keras.layers.Dense(512, activation=\"relu\"),\n",
    "    \n",
    "    # 2nd hidden layer\n",
    "    keras.layers.Dense(256, activation=\"relu\"),\n",
    "    \n",
    "    # 3rd hidden layer\n",
    "    keras.layers.Dense(64, activation=\"relu\"),\n",
    "    \n",
    "    # output layer\n",
    "    keras.layers.Dense(10, activation=\"softmax\")\n",
    "])"
   ]
  },
  {
   "cell_type": "code",
   "execution_count": 5,
   "metadata": {},
   "outputs": [
    {
     "name": "stdout",
     "output_type": "stream",
     "text": [
      "Model: \"sequential\"\n",
      "_________________________________________________________________\n",
      "Layer (type)                 Output Shape              Param #   \n",
      "=================================================================\n",
      "flatten (Flatten)            (None, 572)               0         \n",
      "_________________________________________________________________\n",
      "dense (Dense)                (None, 512)               293376    \n",
      "_________________________________________________________________\n",
      "dense_1 (Dense)              (None, 256)               131328    \n",
      "_________________________________________________________________\n",
      "dense_2 (Dense)              (None, 64)                16448     \n",
      "_________________________________________________________________\n",
      "dense_3 (Dense)              (None, 10)                650       \n",
      "=================================================================\n",
      "Total params: 441,802\n",
      "Trainable params: 441,802\n",
      "Non-trainable params: 0\n",
      "_________________________________________________________________\n"
     ]
    }
   ],
   "source": [
    "# compile network : example\n",
    "optimizer = keras.optimizers.Adam(learning_rate=0.0001)\n",
    "model.compile(optimizer=optimizer,\n",
    "             loss = \"sparse_categorical_crossentropy\",\n",
    "             metrics=[\"accuracy\"])\n",
    "model.summary()"
   ]
  },
  {
   "cell_type": "code",
   "execution_count": 6,
   "metadata": {},
   "outputs": [
    {
     "name": "stdout",
     "output_type": "stream",
     "text": [
      "Epoch 1/50\n",
      "1/1 [==============================] - 0s 211ms/step - loss: 104.4140 - accuracy: 0.0000e+00 - val_loss: 78.5176 - val_accuracy: 0.0000e+00\n",
      "Epoch 2/50\n",
      "1/1 [==============================] - 0s 33ms/step - loss: 52.6589 - accuracy: 0.0000e+00 - val_loss: 45.6308 - val_accuracy: 0.2000\n",
      "Epoch 3/50\n",
      "1/1 [==============================] - 0s 28ms/step - loss: 14.0677 - accuracy: 0.3000 - val_loss: 26.5708 - val_accuracy: 0.6000\n",
      "Epoch 4/50\n",
      "1/1 [==============================] - 0s 33ms/step - loss: 2.6484 - accuracy: 0.9000 - val_loss: 22.3184 - val_accuracy: 0.8000\n",
      "Epoch 5/50\n",
      "1/1 [==============================] - 0s 31ms/step - loss: 1.9300 - accuracy: 0.9000 - val_loss: 22.6890 - val_accuracy: 0.8000\n",
      "Epoch 6/50\n",
      "1/1 [==============================] - 0s 29ms/step - loss: 1.4856 - accuracy: 0.9000 - val_loss: 22.9125 - val_accuracy: 0.8000\n",
      "Epoch 7/50\n",
      "1/1 [==============================] - 0s 32ms/step - loss: 1.0731 - accuracy: 0.9000 - val_loss: 23.0432 - val_accuracy: 0.8000\n",
      "Epoch 8/50\n",
      "1/1 [==============================] - 0s 31ms/step - loss: 0.6079 - accuracy: 0.9000 - val_loss: 23.1067 - val_accuracy: 0.8000\n",
      "Epoch 9/50\n",
      "1/1 [==============================] - 0s 49ms/step - loss: 0.1747 - accuracy: 0.9000 - val_loss: 23.0972 - val_accuracy: 0.8000\n",
      "Epoch 10/50\n",
      "1/1 [==============================] - 0s 41ms/step - loss: 0.0049 - accuracy: 1.0000 - val_loss: 23.0252 - val_accuracy: 0.8000\n",
      "Epoch 11/50\n",
      "1/1 [==============================] - 0s 59ms/step - loss: 1.2596e-04 - accuracy: 1.0000 - val_loss: 22.8798 - val_accuracy: 0.8000\n",
      "Epoch 12/50\n",
      "1/1 [==============================] - 0s 29ms/step - loss: 8.2609e-06 - accuracy: 1.0000 - val_loss: 22.7486 - val_accuracy: 0.8000\n",
      "Epoch 13/50\n",
      "1/1 [==============================] - 0s 38ms/step - loss: 8.8214e-07 - accuracy: 1.0000 - val_loss: 22.6329 - val_accuracy: 0.8000\n",
      "Epoch 14/50\n",
      "1/1 [==============================] - 0s 37ms/step - loss: 8.3446e-08 - accuracy: 1.0000 - val_loss: 22.5109 - val_accuracy: 0.8000\n",
      "Epoch 15/50\n",
      "1/1 [==============================] - 0s 36ms/step - loss: 1.1921e-08 - accuracy: 1.0000 - val_loss: 22.3792 - val_accuracy: 0.8000\n",
      "Epoch 16/50\n",
      "1/1 [==============================] - 0s 28ms/step - loss: 0.0000e+00 - accuracy: 1.0000 - val_loss: 22.2236 - val_accuracy: 0.8000\n",
      "Epoch 17/50\n",
      "1/1 [==============================] - 0s 49ms/step - loss: 0.0000e+00 - accuracy: 1.0000 - val_loss: 22.0370 - val_accuracy: 0.8000\n",
      "Epoch 18/50\n",
      "1/1 [==============================] - 0s 70ms/step - loss: 0.0000e+00 - accuracy: 1.0000 - val_loss: 21.8569 - val_accuracy: 0.8000\n",
      "Epoch 19/50\n",
      "1/1 [==============================] - ETA: 0s - loss: 0.0000e+00 - accuracy: 1.00 - 0s 71ms/step - loss: 0.0000e+00 - accuracy: 1.0000 - val_loss: 21.6928 - val_accuracy: 0.8000\n",
      "Epoch 20/50\n",
      "1/1 [==============================] - 0s 72ms/step - loss: 0.0000e+00 - accuracy: 1.0000 - val_loss: 21.5394 - val_accuracy: 0.8000\n",
      "Epoch 21/50\n",
      "1/1 [==============================] - 0s 57ms/step - loss: 0.0000e+00 - accuracy: 1.0000 - val_loss: 21.3912 - val_accuracy: 0.8000\n",
      "Epoch 22/50\n",
      "1/1 [==============================] - 0s 54ms/step - loss: 0.0000e+00 - accuracy: 1.0000 - val_loss: 21.2562 - val_accuracy: 0.8000\n",
      "Epoch 23/50\n",
      "1/1 [==============================] - 0s 68ms/step - loss: 0.0000e+00 - accuracy: 1.0000 - val_loss: 21.1330 - val_accuracy: 0.8000\n",
      "Epoch 24/50\n",
      "1/1 [==============================] - 0s 58ms/step - loss: 0.0000e+00 - accuracy: 1.0000 - val_loss: 21.0206 - val_accuracy: 0.8000\n",
      "Epoch 25/50\n",
      "1/1 [==============================] - 0s 33ms/step - loss: 0.0000e+00 - accuracy: 1.0000 - val_loss: 20.9181 - val_accuracy: 0.8000\n",
      "Epoch 26/50\n",
      "1/1 [==============================] - 0s 44ms/step - loss: 0.0000e+00 - accuracy: 1.0000 - val_loss: 20.8247 - val_accuracy: 0.8000\n",
      "Epoch 27/50\n",
      "1/1 [==============================] - 0s 42ms/step - loss: 0.0000e+00 - accuracy: 1.0000 - val_loss: 20.7396 - val_accuracy: 0.8000\n",
      "Epoch 28/50\n",
      "1/1 [==============================] - 0s 49ms/step - loss: 0.0000e+00 - accuracy: 1.0000 - val_loss: 20.6619 - val_accuracy: 0.8000\n",
      "Epoch 29/50\n",
      "1/1 [==============================] - 0s 36ms/step - loss: 0.0000e+00 - accuracy: 1.0000 - val_loss: 20.5917 - val_accuracy: 0.8000\n",
      "Epoch 30/50\n",
      "1/1 [==============================] - 0s 39ms/step - loss: 0.0000e+00 - accuracy: 1.0000 - val_loss: 20.5284 - val_accuracy: 0.8000\n",
      "Epoch 31/50\n",
      "1/1 [==============================] - 0s 43ms/step - loss: 0.0000e+00 - accuracy: 1.0000 - val_loss: 20.4707 - val_accuracy: 0.8000\n",
      "Epoch 32/50\n",
      "1/1 [==============================] - 0s 36ms/step - loss: 0.0000e+00 - accuracy: 1.0000 - val_loss: 20.4180 - val_accuracy: 0.8000\n",
      "Epoch 33/50\n",
      "1/1 [==============================] - 0s 43ms/step - loss: 0.0000e+00 - accuracy: 1.0000 - val_loss: 20.3700 - val_accuracy: 0.8000\n",
      "Epoch 34/50\n",
      "1/1 [==============================] - 0s 33ms/step - loss: 0.0000e+00 - accuracy: 1.0000 - val_loss: 20.3263 - val_accuracy: 0.8000\n",
      "Epoch 35/50\n",
      "1/1 [==============================] - 0s 76ms/step - loss: 0.0000e+00 - accuracy: 1.0000 - val_loss: 20.2864 - val_accuracy: 0.8000\n",
      "Epoch 36/50\n",
      "1/1 [==============================] - 0s 70ms/step - loss: 0.0000e+00 - accuracy: 1.0000 - val_loss: 20.2501 - val_accuracy: 0.8000\n",
      "Epoch 37/50\n",
      "1/1 [==============================] - 0s 63ms/step - loss: 0.0000e+00 - accuracy: 1.0000 - val_loss: 20.2170 - val_accuracy: 0.8000\n",
      "Epoch 38/50\n",
      "1/1 [==============================] - 0s 47ms/step - loss: 0.0000e+00 - accuracy: 1.0000 - val_loss: 20.1869 - val_accuracy: 0.8000\n",
      "Epoch 39/50\n",
      "1/1 [==============================] - 0s 37ms/step - loss: 0.0000e+00 - accuracy: 1.0000 - val_loss: 20.1594 - val_accuracy: 0.8000\n",
      "Epoch 40/50\n",
      "1/1 [==============================] - 0s 46ms/step - loss: 0.0000e+00 - accuracy: 1.0000 - val_loss: 20.1344 - val_accuracy: 0.8000\n",
      "Epoch 41/50\n",
      "1/1 [==============================] - 0s 36ms/step - loss: 0.0000e+00 - accuracy: 1.0000 - val_loss: 20.1117 - val_accuracy: 0.8000\n",
      "Epoch 42/50\n",
      "1/1 [==============================] - 0s 45ms/step - loss: 0.0000e+00 - accuracy: 1.0000 - val_loss: 20.0910 - val_accuracy: 0.8000\n",
      "Epoch 43/50\n",
      "1/1 [==============================] - 0s 42ms/step - loss: 0.0000e+00 - accuracy: 1.0000 - val_loss: 20.0722 - val_accuracy: 0.8000\n",
      "Epoch 44/50\n",
      "1/1 [==============================] - 0s 37ms/step - loss: 0.0000e+00 - accuracy: 1.0000 - val_loss: 20.0550 - val_accuracy: 0.8000\n",
      "Epoch 45/50\n",
      "1/1 [==============================] - 0s 34ms/step - loss: 0.0000e+00 - accuracy: 1.0000 - val_loss: 20.0394 - val_accuracy: 0.8000\n",
      "Epoch 46/50\n",
      "1/1 [==============================] - 0s 34ms/step - loss: 0.0000e+00 - accuracy: 1.0000 - val_loss: 20.0252 - val_accuracy: 0.8000\n",
      "Epoch 47/50\n",
      "1/1 [==============================] - 0s 28ms/step - loss: 0.0000e+00 - accuracy: 1.0000 - val_loss: 20.0123 - val_accuracy: 0.8000\n",
      "Epoch 48/50\n",
      "1/1 [==============================] - 0s 36ms/step - loss: 0.0000e+00 - accuracy: 1.0000 - val_loss: 20.0006 - val_accuracy: 0.8000\n",
      "Epoch 49/50\n",
      "1/1 [==============================] - 0s 38ms/step - loss: 0.0000e+00 - accuracy: 1.0000 - val_loss: 19.9899 - val_accuracy: 0.8000\n",
      "Epoch 50/50\n",
      "1/1 [==============================] - 0s 29ms/step - loss: 0.0000e+00 - accuracy: 1.0000 - val_loss: 19.9803 - val_accuracy: 0.8000\n"
     ]
    },
    {
     "data": {
      "text/plain": [
       "<tensorflow.python.keras.callbacks.History at 0x7fcf1c3d6668>"
      ]
     },
     "execution_count": 6,
     "metadata": {},
     "output_type": "execute_result"
    }
   ],
   "source": [
    "# train network\n",
    "model.fit(X_train, y_train, validation_data=(X_test, y_test), epochs=50, batch_size=32)\n",
    "\n",
    "## overfitting -- identify"
   ]
  },
  {
   "cell_type": "code",
   "execution_count": null,
   "metadata": {},
   "outputs": [],
   "source": [
    "y_predict = model.predict(X)"
   ]
  }
 ],
 "metadata": {
  "kernelspec": {
   "display_name": "Python [conda env:PythonAdv]",
   "language": "python",
   "name": "conda-env-PythonAdv-py"
  },
  "language_info": {
   "codemirror_mode": {
    "name": "ipython",
    "version": 3
   },
   "file_extension": ".py",
   "mimetype": "text/x-python",
   "name": "python",
   "nbconvert_exporter": "python",
   "pygments_lexer": "ipython3",
   "version": "3.6.10"
  }
 },
 "nbformat": 4,
 "nbformat_minor": 4
}
