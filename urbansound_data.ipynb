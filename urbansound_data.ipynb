{
 "cells": [
  {
   "cell_type": "markdown",
   "metadata": {},
   "source": [
    "# UrbanSound machine learning\n",
    "\n",
    "* The codes : learned from\n",
    "\n",
    "- youtube video series \"Deep Learning (for audio) using Python\" -- using librosa\n",
    "    https://www.youtube.com/watch?v=m3XbqfIij_Y  and more\n",
    "    \n",
    "- towarddatasience -- urbansound\n",
    "   Part1: https://towardsdatascience.com/urban-sound-classification-part-1-99137c6335f9\n",
    "   PArt2: https://towardsdatascience.com/urban-sound-classification-part-2-sample-rate-conversion-librosa-ba7bc88f209a\n",
    "    "
   ]
  },
  {
   "cell_type": "code",
   "execution_count": 12,
   "metadata": {},
   "outputs": [],
   "source": [
    "# marsys -- music genres, folders-- many files.\n",
    "\n",
    "import pandas as pd\n",
    "import os\n",
    "import librosa\n",
    "import math\n",
    "import json\n",
    "import numpy as np\n",
    "\n",
    "DATASET_PATH = \"urbansound_reduced\"  # in the video, the files are music files\n",
    "JASON_PATH = \"data.json\""
   ]
  },
  {
   "cell_type": "code",
   "execution_count": 2,
   "metadata": {},
   "outputs": [],
   "source": [
    "metadata = pd.read_csv(f\"{DATASET_PATH}/metadata/UrbanSound8K.csv\")"
   ]
  },
  {
   "cell_type": "code",
   "execution_count": 3,
   "metadata": {
    "scrolled": true
   },
   "outputs": [
    {
     "data": {
      "text/html": [
       "<div>\n",
       "<style scoped>\n",
       "    .dataframe tbody tr th:only-of-type {\n",
       "        vertical-align: middle;\n",
       "    }\n",
       "\n",
       "    .dataframe tbody tr th {\n",
       "        vertical-align: top;\n",
       "    }\n",
       "\n",
       "    .dataframe thead th {\n",
       "        text-align: right;\n",
       "    }\n",
       "</style>\n",
       "<table border=\"1\" class=\"dataframe\">\n",
       "  <thead>\n",
       "    <tr style=\"text-align: right;\">\n",
       "      <th></th>\n",
       "      <th>slice_file_name</th>\n",
       "      <th>fsID</th>\n",
       "      <th>start</th>\n",
       "      <th>end</th>\n",
       "      <th>salience</th>\n",
       "      <th>fold</th>\n",
       "      <th>classID</th>\n",
       "      <th>class</th>\n",
       "    </tr>\n",
       "  </thead>\n",
       "  <tbody>\n",
       "    <tr>\n",
       "      <th>0</th>\n",
       "      <td>100032-3-0-0.wav</td>\n",
       "      <td>100032</td>\n",
       "      <td>0.0</td>\n",
       "      <td>0.317551</td>\n",
       "      <td>1</td>\n",
       "      <td>5</td>\n",
       "      <td>3</td>\n",
       "      <td>dog_bark</td>\n",
       "    </tr>\n",
       "    <tr>\n",
       "      <th>1</th>\n",
       "      <td>100263-2-0-117.wav</td>\n",
       "      <td>100263</td>\n",
       "      <td>58.5</td>\n",
       "      <td>62.500000</td>\n",
       "      <td>1</td>\n",
       "      <td>5</td>\n",
       "      <td>2</td>\n",
       "      <td>children_playing</td>\n",
       "    </tr>\n",
       "    <tr>\n",
       "      <th>2</th>\n",
       "      <td>100263-2-0-121.wav</td>\n",
       "      <td>100263</td>\n",
       "      <td>60.5</td>\n",
       "      <td>64.500000</td>\n",
       "      <td>1</td>\n",
       "      <td>5</td>\n",
       "      <td>2</td>\n",
       "      <td>children_playing</td>\n",
       "    </tr>\n",
       "    <tr>\n",
       "      <th>3</th>\n",
       "      <td>100263-2-0-126.wav</td>\n",
       "      <td>100263</td>\n",
       "      <td>63.0</td>\n",
       "      <td>67.000000</td>\n",
       "      <td>1</td>\n",
       "      <td>5</td>\n",
       "      <td>2</td>\n",
       "      <td>children_playing</td>\n",
       "    </tr>\n",
       "    <tr>\n",
       "      <th>4</th>\n",
       "      <td>100263-2-0-137.wav</td>\n",
       "      <td>100263</td>\n",
       "      <td>68.5</td>\n",
       "      <td>72.500000</td>\n",
       "      <td>1</td>\n",
       "      <td>5</td>\n",
       "      <td>2</td>\n",
       "      <td>children_playing</td>\n",
       "    </tr>\n",
       "  </tbody>\n",
       "</table>\n",
       "</div>"
      ],
      "text/plain": [
       "      slice_file_name    fsID  start        end  salience  fold  classID  \\\n",
       "0    100032-3-0-0.wav  100032    0.0   0.317551         1     5        3   \n",
       "1  100263-2-0-117.wav  100263   58.5  62.500000         1     5        2   \n",
       "2  100263-2-0-121.wav  100263   60.5  64.500000         1     5        2   \n",
       "3  100263-2-0-126.wav  100263   63.0  67.000000         1     5        2   \n",
       "4  100263-2-0-137.wav  100263   68.5  72.500000         1     5        2   \n",
       "\n",
       "              class  \n",
       "0          dog_bark  \n",
       "1  children_playing  \n",
       "2  children_playing  \n",
       "3  children_playing  \n",
       "4  children_playing  "
      ]
     },
     "execution_count": 3,
     "metadata": {},
     "output_type": "execute_result"
    }
   ],
   "source": [
    "metadata.head()"
   ]
  },
  {
   "cell_type": "code",
   "execution_count": 3,
   "metadata": {},
   "outputs": [
    {
     "data": {
      "text/html": [
       "<div>\n",
       "<style scoped>\n",
       "    .dataframe tbody tr th:only-of-type {\n",
       "        vertical-align: middle;\n",
       "    }\n",
       "\n",
       "    .dataframe tbody tr th {\n",
       "        vertical-align: top;\n",
       "    }\n",
       "\n",
       "    .dataframe thead th {\n",
       "        text-align: right;\n",
       "    }\n",
       "</style>\n",
       "<table border=\"1\" class=\"dataframe\">\n",
       "  <thead>\n",
       "    <tr style=\"text-align: right;\">\n",
       "      <th></th>\n",
       "      <th>slice_file_name</th>\n",
       "      <th>fsID</th>\n",
       "      <th>start</th>\n",
       "      <th>end</th>\n",
       "      <th>salience</th>\n",
       "      <th>fold</th>\n",
       "      <th>classID</th>\n",
       "      <th>class</th>\n",
       "    </tr>\n",
       "  </thead>\n",
       "  <tbody>\n",
       "    <tr>\n",
       "      <th>7660</th>\n",
       "      <td>7383-3-0-0.wav</td>\n",
       "      <td>7383</td>\n",
       "      <td>3.9021</td>\n",
       "      <td>7.9021</td>\n",
       "      <td>1</td>\n",
       "      <td>1</td>\n",
       "      <td>3</td>\n",
       "      <td>dog_bark</td>\n",
       "    </tr>\n",
       "  </tbody>\n",
       "</table>\n",
       "</div>"
      ],
      "text/plain": [
       "     slice_file_name  fsID   start     end  salience  fold  classID     class\n",
       "7660  7383-3-0-0.wav  7383  3.9021  7.9021         1     1        3  dog_bark"
      ]
     },
     "execution_count": 3,
     "metadata": {},
     "output_type": "execute_result"
    }
   ],
   "source": [
    "filename = \"7383-3-0-0.wav\"\n",
    "metadata.loc[metadata[\"slice_file_name\"]==filename]"
   ]
  },
  {
   "cell_type": "code",
   "execution_count": 21,
   "metadata": {},
   "outputs": [
    {
     "data": {
      "text/html": [
       "<div>\n",
       "<style scoped>\n",
       "    .dataframe tbody tr th:only-of-type {\n",
       "        vertical-align: middle;\n",
       "    }\n",
       "\n",
       "    .dataframe tbody tr th {\n",
       "        vertical-align: top;\n",
       "    }\n",
       "\n",
       "    .dataframe thead th {\n",
       "        text-align: right;\n",
       "    }\n",
       "</style>\n",
       "<table border=\"1\" class=\"dataframe\">\n",
       "  <thead>\n",
       "    <tr style=\"text-align: right;\">\n",
       "      <th></th>\n",
       "      <th>slice_file_name</th>\n",
       "      <th>fsID</th>\n",
       "      <th>start</th>\n",
       "      <th>end</th>\n",
       "      <th>salience</th>\n",
       "      <th>fold</th>\n",
       "      <th>classID</th>\n",
       "      <th>class</th>\n",
       "    </tr>\n",
       "  </thead>\n",
       "  <tbody>\n",
       "    <tr>\n",
       "      <th>64</th>\n",
       "      <td>101415-3-0-2.wav</td>\n",
       "      <td>101415</td>\n",
       "      <td>1.000000</td>\n",
       "      <td>5.000000</td>\n",
       "      <td>1</td>\n",
       "      <td>1</td>\n",
       "      <td>3</td>\n",
       "      <td>dog_bark</td>\n",
       "    </tr>\n",
       "    <tr>\n",
       "      <th>65</th>\n",
       "      <td>101415-3-0-3.wav</td>\n",
       "      <td>101415</td>\n",
       "      <td>1.500000</td>\n",
       "      <td>5.500000</td>\n",
       "      <td>1</td>\n",
       "      <td>1</td>\n",
       "      <td>3</td>\n",
       "      <td>dog_bark</td>\n",
       "    </tr>\n",
       "    <tr>\n",
       "      <th>66</th>\n",
       "      <td>101415-3-0-8.wav</td>\n",
       "      <td>101415</td>\n",
       "      <td>4.000000</td>\n",
       "      <td>8.000000</td>\n",
       "      <td>1</td>\n",
       "      <td>1</td>\n",
       "      <td>3</td>\n",
       "      <td>dog_bark</td>\n",
       "    </tr>\n",
       "    <tr>\n",
       "      <th>105</th>\n",
       "      <td>102106-3-0-0.wav</td>\n",
       "      <td>102106</td>\n",
       "      <td>2.243852</td>\n",
       "      <td>3.884477</td>\n",
       "      <td>2</td>\n",
       "      <td>1</td>\n",
       "      <td>3</td>\n",
       "      <td>dog_bark</td>\n",
       "    </tr>\n",
       "    <tr>\n",
       "      <th>106</th>\n",
       "      <td>102305-6-0-0.wav</td>\n",
       "      <td>102305</td>\n",
       "      <td>0.000000</td>\n",
       "      <td>2.611610</td>\n",
       "      <td>1</td>\n",
       "      <td>1</td>\n",
       "      <td>6</td>\n",
       "      <td>gun_shot</td>\n",
       "    </tr>\n",
       "  </tbody>\n",
       "</table>\n",
       "</div>"
      ],
      "text/plain": [
       "      slice_file_name    fsID     start       end  salience  fold  classID  \\\n",
       "64   101415-3-0-2.wav  101415  1.000000  5.000000         1     1        3   \n",
       "65   101415-3-0-3.wav  101415  1.500000  5.500000         1     1        3   \n",
       "66   101415-3-0-8.wav  101415  4.000000  8.000000         1     1        3   \n",
       "105  102106-3-0-0.wav  102106  2.243852  3.884477         2     1        3   \n",
       "106  102305-6-0-0.wav  102305  0.000000  2.611610         1     1        6   \n",
       "\n",
       "        class  \n",
       "64   dog_bark  \n",
       "65   dog_bark  \n",
       "66   dog_bark  \n",
       "105  dog_bark  \n",
       "106  gun_shot  "
      ]
     },
     "execution_count": 21,
     "metadata": {},
     "output_type": "execute_result"
    }
   ],
   "source": [
    "metadata.loc[metadata[\"fold\"]==1].head()"
   ]
  },
  {
   "cell_type": "code",
   "execution_count": 4,
   "metadata": {},
   "outputs": [
    {
     "data": {
      "text/plain": [
       "slice_file_name    873\n",
       "fsID               134\n",
       "start              488\n",
       "end                506\n",
       "salience             2\n",
       "fold                 1\n",
       "classID             10\n",
       "class               10\n",
       "dtype: int64"
      ]
     },
     "execution_count": 4,
     "metadata": {},
     "output_type": "execute_result"
    }
   ],
   "source": [
    "metadata.loc[metadata[\"fold\"]==1].nunique()"
   ]
  },
  {
   "cell_type": "code",
   "execution_count": 13,
   "metadata": {},
   "outputs": [
    {
     "name": "stdout",
     "output_type": "stream",
     "text": [
      "Converted Sample Rate :  22050\n",
      "Converted Signal min ~ max :  -0.32452014 ~ 0.29852936\n"
     ]
    },
    {
     "data": {
      "image/png": "[encoded data removed]",
      "text/plain": [
       "<Figure size 432x288 with 1 Axes>"
      ]
     },
     "metadata": {
      "needs_background": "light"
     },
     "output_type": "display_data"
    }
   ],
   "source": [
    "import librosa.display\n",
    "import matplotlib.pyplot as plt\n",
    "\n",
    "#waveform,   sr * T => 22050 * 30,  sr=sampling rate\n",
    "filepath = f\"{DATASET_PATH}/audio/fold1/{filename}\"\n",
    "signal, sr = librosa.load(filepath, sr=22050)\n",
    "\n",
    "print(\"Converted Sample Rate : \", sr)\n",
    "print(\"Converted Signal min ~ max : \", np.min(signal), \"~\", np.max(signal))\n",
    "\n",
    "librosa.display.waveplot(signal, sr=sr)\n",
    "plt.xlabel(\"Time\")\n",
    "plt.ylabel(\"Amplitude\")\n",
    "plt.show()"
   ]
  },
  {
   "cell_type": "code",
   "execution_count": 18,
   "metadata": {},
   "outputs": [
    {
     "data": {
      "image/png": "[encoded data removed]",
      "text/plain": [
       "<Figure size 432x288 with 2 Axes>"
      ]
     },
     "metadata": {
      "needs_background": "light"
     },
     "output_type": "display_data"
    }
   ],
   "source": [
    "# short time Fourier Transform (stft) --- spectrogram\n",
    "n_fft = 2048 # number of samples\n",
    "hop_length = 512 # amount shifting F.T. to right , sliding to right\n",
    "stft = librosa.core.stft(signal, hop_length=hop_length, n_fft=n_fft)\n",
    "spectrogram = np.abs(stft)\n",
    "\n",
    "\n",
    "log_spectrogram = librosa.amplitude_to_db(spectrogram)\n",
    "\n",
    "\n",
    "librosa.display.specshow(log_spectrogram, sr=sr, hop_length=hop_length)\n",
    "plt.xlabel(\"Time\")\n",
    "plt.ylabel(\"Frequency\")\n",
    "plt.colorbar()\n",
    "plt.show()"
   ]
  },
  {
   "cell_type": "code",
   "execution_count": 16,
   "metadata": {},
   "outputs": [],
   "source": [
    "\n",
    "# test\n",
    "\n",
    "SAMPLE_RATE = 22050\n",
    "DURATION = 4 # measured in seconds\n",
    "SAMPLES_PER_TRACK = SAMPLE_RATE * DURATION\n",
    "\n",
    "def save_urban_mfcc(dataset_path, json_path, n_mfcc=13, n_fft=2048, hop_length=512, num_segments=5):\n",
    "    \n",
    "    data = {\n",
    "        \"class\" : [],\n",
    "        \"mfcc\" : [],\n",
    "        \"classID\" : []\n",
    "    }\n",
    "    \n",
    "    num_samples_per_segment = int(SAMPLES_PER_TRACK / num_segments)\n",
    "    expected_num_mfcc_vectors_per_segment =  math.ceil(num_samples_per_segment / hop_length) # ex) 1.2 => 2\n",
    "    \n",
    "    print(\"expected number of mfcc vectors per segment:\", expected_num_mfcc_vectors_per_segment)\n",
    "    \n",
    "    for i, (dirpath, dirnames, filenames) in enumerate(os.walk(dataset_path)):\n",
    "        # ensure we are not at the root level\n",
    "        if dirpath is not dataset_path:\n",
    "            for fn in filenames:\n",
    "        \n",
    "                if fn == \".DS_Store\":\n",
    "                    continue\n",
    "                excerpt = metadata.loc[metadata[\"slice_file_name\"]==fn]\n",
    "                filepath = os.path.join(dirpath,fn)\n",
    "                print(filepath)\n",
    "                signal, sr = librosa.load(filepath, sr=SAMPLE_RATE)\n",
    "                \n",
    "                for s in range(num_segments):\n",
    "                    start_sample = num_samples_per_segment * s\n",
    "                    finish_sample = start_sample + num_samples_per_segment\n",
    "                    \n",
    "                    #print(\"start sample\", start_sample)\n",
    "                    #print(\"finish sampel\", finish_sample)\n",
    "                    if len(signal) < finish_sample:\n",
    "                        #print(\"short signal\")\n",
    "                        #print(filepath)\n",
    "                        break\n",
    "                        \n",
    "                    mfcc = librosa.feature.mfcc(signal[start_sample:finish_sample],\n",
    "                                                sr=sr,\n",
    "                                                n_mfcc=13,\n",
    "                                                n_fft=n_fft,\n",
    "                                                hop_length=hop_length)\n",
    "\n",
    "                    mfcc = mfcc.T # transpose\n",
    "                    print(np.shape(mfcc))\n",
    "                    if len(mfcc) ==  expected_num_mfcc_vectors_per_segment:\n",
    "                        data[\"class\"].append(excerpt[\"class\"].values.tolist())\n",
    "                        data[\"mfcc\"].append(mfcc.tolist())\n",
    "                        data[\"classID\"].append(excerpt[\"classID\"].values.tolist())\n",
    "    \n",
    "   # with open(json_path, \"w\") as fp:\n",
    "    #    json.dump(data, fp, indent=4)\n"
   ]
  },
  {
   "cell_type": "code",
   "execution_count": 17,
   "metadata": {},
   "outputs": [
    {
     "name": "stdout",
     "output_type": "stream",
     "text": [
      "expected number of mfcc vectors per segment: 44\n",
      "urbansound_reduced/audio/fold2/4911-3-0-0.wav\n",
      "urbansound_reduced/audio/fold2/4201-3-1-0.wav\n",
      "urbansound_reduced/audio/fold2/4201-3-3-0.wav\n",
      "(44, 13)\n",
      "urbansound_reduced/audio/fold2/4201-3-2-0.wav\n",
      "urbansound_reduced/audio/fold2/4201-3-0-0.wav\n",
      "urbansound_reduced/audio/fold1/7061-6-0-0.wav\n",
      "(44, 13)\n",
      "(44, 13)\n",
      "urbansound_reduced/audio/fold1/9031-3-1-0.wav\n",
      "urbansound_reduced/audio/fold1/7383-3-0-0.wav\n",
      "(44, 13)\n",
      "(44, 13)\n",
      "(44, 13)\n",
      "(44, 13)\n",
      "urbansound_reduced/audio/fold1/7383-3-0-1.wav\n",
      "(44, 13)\n",
      "(44, 13)\n",
      "(44, 13)\n",
      "(44, 13)\n",
      "urbansound_reduced/audio/fold1/7383-3-1-0.wav\n",
      "(44, 13)\n",
      "(44, 13)\n",
      "(44, 13)\n",
      "(44, 13)\n"
     ]
    }
   ],
   "source": [
    "save_urban_mfcc(DATASET_PATH+\"/audio\", JASON_PATH, num_segments=4)"
   ]
  },
  {
   "cell_type": "code",
   "execution_count": 22,
   "metadata": {},
   "outputs": [
    {
     "name": "stdout",
     "output_type": "stream",
     "text": [
      "  mfcc0 double precision,\n",
      "  mfcc1 double precision,\n",
      "  mfcc2 double precision,\n",
      "  mfcc3 double precision,\n",
      "  mfcc4 double precision,\n",
      "  mfcc5 double precision,\n",
      "  mfcc6 double precision,\n",
      "  mfcc7 double precision,\n",
      "  mfcc8 double precision,\n",
      "  mfcc9 double precision,\n",
      "  mfcc10 double precision,\n",
      "  mfcc11 double precision,\n",
      "  mfcc12 double precision,\n",
      "  mfcc13 double precision,\n",
      "  mfcc14 double precision,\n",
      "  mfcc15 double precision,\n",
      "  mfcc16 double precision,\n",
      "  mfcc17 double precision,\n",
      "  mfcc18 double precision,\n",
      "  mfcc19 double precision,\n",
      "  mfcc20 double precision,\n",
      "  mfcc21 double precision,\n",
      "  mfcc22 double precision,\n",
      "  mfcc23 double precision,\n",
      "  mfcc24 double precision,\n",
      "  mfcc25 double precision,\n",
      "  mfcc26 double precision,\n",
      "  mfcc27 double precision,\n",
      "  mfcc28 double precision,\n",
      "  mfcc29 double precision,\n",
      "  mfcc30 double precision,\n",
      "  mfcc31 double precision,\n",
      "  mfcc32 double precision,\n",
      "  mfcc33 double precision,\n",
      "  mfcc34 double precision,\n",
      "  mfcc35 double precision,\n",
      "  mfcc36 double precision,\n",
      "  mfcc37 double precision,\n",
      "  mfcc38 double precision,\n",
      "  mfcc39 double precision,\n",
      "  mfcc40 double precision,\n",
      "  mfcc41 double precision,\n",
      "  mfcc42 double precision,\n",
      "  mfcc43 double precision,\n"
     ]
    }
   ],
   "source": []
  },
  {
   "cell_type": "code",
   "execution_count": null,
   "metadata": {},
   "outputs": [],
   "source": []
  }
 ],
 "metadata": {
  "kernelspec": {
   "display_name": "Python 3.6.10 64-bit ('PythonData': conda)",
   "language": "python",
   "name": "python361064bitpythondatacondac32fb4695c664fa9afac8681922271ab"
  },
  "language_info": {
   "codemirror_mode": {
    "name": "ipython",
    "version": 3
   },
   "file_extension": ".py",
   "mimetype": "text/x-python",
   "name": "python",
   "nbconvert_exporter": "python",
   "pygments_lexer": "ipython3",
   "version": "3.6.10"
  }
 },
 "nbformat": 4,
 "nbformat_minor": 4
}
